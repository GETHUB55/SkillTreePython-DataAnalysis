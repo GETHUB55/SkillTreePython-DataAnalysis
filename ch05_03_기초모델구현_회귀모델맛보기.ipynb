{
  "cells": [
    {
      "cell_type": "markdown",
      "metadata": {
        "id": "view-in-github",
        "colab_type": "text"
      },
      "source": [
        "<a href=\"https://colab.research.google.com/github/GETHUB55/SkillTreePython-DataAnalysis/blob/main/ch05_03_%EA%B8%B0%EC%B4%88%EB%AA%A8%EB%8D%B8%EA%B5%AC%ED%98%84_%ED%9A%8C%EA%B7%80%EB%AA%A8%EB%8D%B8%EB%A7%9B%EB%B3%B4%EA%B8%B0.ipynb\" target=\"_parent\"><img src=\"https://colab.research.google.com/assets/colab-badge.svg\" alt=\"Open In Colab\"/></a>"
      ]
    },
    {
      "cell_type": "markdown",
      "metadata": {
        "id": "wWpXZc2fi39U"
      },
      "source": [
        "# ch05.03. 기초모델 구현 - 회귀모델 맛보기\n",
        "---\n",
        "* 날짜:22.06.29\n",
        "* 이름:조수빈\n",
        "\n",
        "## 학습내용\n",
        "    - 회귀 분석의 개념에 대해 이해한다\n",
        "    - 단순 회귀 문제일 때의 프로세스에 대해 이해한다.\n",
        "    - 다중 회귀 문제일 때의 프로세스에 대해 이해한다.\n",
        "    - 모델링에 대한 전체적인 프로세스 과정을 이해한다. "
      ]
    },
    {
      "cell_type": "markdown",
      "metadata": {
        "id": "kByKdJPApy6P"
      },
      "source": [
        "```\n",
        "import numpy as np\n",
        "import matplotlib.pyplot as plt\n",
        "plt.style.use(\"ggplot\")\n",
        "```"
      ]
    },
    {
      "cell_type": "code",
      "execution_count": null,
      "metadata": {
        "id": "rJvcz-JikHbE"
      },
      "outputs": [],
      "source": [
        ""
      ]
    },
    {
      "cell_type": "markdown",
      "metadata": {
        "id": "0XIixAG202GE"
      },
      "source": [
        "## 단순 회귀 문제\n",
        "---\n",
        "\n"
      ]
    },
    {
      "cell_type": "markdown",
      "metadata": {
        "id": "J7YFAQAl-i-v"
      },
      "source": [
        "\n",
        "|공부시간(x)|종합점수(y)|\n",
        "|------|---|\n",
        "|3|20|\n",
        "|5|50|\n",
        "|5|60|\n",
        "|7|90|\n",
        "|8|100|"
      ]
    },
    {
      "cell_type": "markdown",
      "metadata": {
        "id": "bxnIJBzukmUi"
      },
      "source": [
        "* 데이터 정의"
      ]
    },
    {
      "cell_type": "code",
      "execution_count": null,
      "metadata": {
        "id": "6-4N0_z4ZQrm"
      },
      "outputs": [],
      "source": [
        ""
      ]
    },
    {
      "cell_type": "markdown",
      "metadata": {
        "id": "24xjAjtnknyQ"
      },
      "source": [
        "* 데이터 시각화"
      ]
    },
    {
      "cell_type": "code",
      "execution_count": null,
      "metadata": {
        "id": "XJiw7pyIZZUs"
      },
      "outputs": [],
      "source": [
        ""
      ]
    },
    {
      "cell_type": "markdown",
      "metadata": {
        "id": "T78Jn-w51W8b"
      },
      "source": [
        "### **| step 1. 모델 구현**\n",
        "\n",
        "$model(x;w) = wx$"
      ]
    },
    {
      "cell_type": "markdown",
      "metadata": {
        "id": "1oRII_2Unt4j"
      },
      "source": [
        "* 모델 정의"
      ]
    },
    {
      "cell_type": "code",
      "execution_count": null,
      "metadata": {
        "id": "CiPKoWjG1Vzi"
      },
      "outputs": [],
      "source": [
        ""
      ]
    },
    {
      "cell_type": "markdown",
      "metadata": {
        "id": "tw0Gic-hHsr-"
      },
      "source": [
        "* 초기 모델 사용\n",
        "\n",
        "\n",
        "|공부시간(x)|종합점수(y)| 예측값 ($\\hat{y})$|\n",
        "|------|---|--|\n",
        "|3|20||\n",
        "|5|50||\n",
        "|5|60||\n",
        "|7|90||\n",
        "|8|100||"
      ]
    },
    {
      "cell_type": "code",
      "execution_count": null,
      "metadata": {
        "id": "Lx2tRC8uHssE"
      },
      "outputs": [],
      "source": [
        ""
      ]
    },
    {
      "cell_type": "markdown",
      "metadata": {
        "id": "wXlz0IPRa2Ww"
      },
      "source": [
        "### **| step 2. 손실 (loss) 계산**\n",
        "\n",
        "$loss = |(\\hat{y}-y)|$"
      ]
    },
    {
      "cell_type": "markdown",
      "metadata": {
        "id": "Qz5lqzyYnvML"
      },
      "source": [
        "* 손실 계산 과정 정의"
      ]
    },
    {
      "cell_type": "code",
      "execution_count": null,
      "metadata": {
        "id": "Cf0XkrL7-jFw"
      },
      "outputs": [],
      "source": [
        ""
      ]
    },
    {
      "cell_type": "markdown",
      "metadata": {
        "id": "d6llwXUYUils"
      },
      "source": [
        "### **| step 3. 최적화 (Optimizer)**\n"
      ]
    },
    {
      "cell_type": "markdown",
      "metadata": {
        "id": "h6Z4rnEieM9B"
      },
      "source": [
        "*  학습 파라미터 $w$를 5부터 20까지 바꿔가며 손실 계산하기\n"
      ]
    },
    {
      "cell_type": "code",
      "execution_count": null,
      "metadata": {
        "id": "CVcY1IrX6oMQ"
      },
      "outputs": [],
      "source": [
        ""
      ]
    },
    {
      "cell_type": "markdown",
      "metadata": {
        "id": "oGdLxsS6i-Dx"
      },
      "source": [
        "### **| step 4. 예측 (Prediction)**"
      ]
    },
    {
      "cell_type": "markdown",
      "metadata": {
        "id": "4IZWpxblmXf4"
      },
      "source": [
        "* 학습 완료된 모델의 최종 손실 계산"
      ]
    },
    {
      "cell_type": "code",
      "execution_count": null,
      "metadata": {
        "id": "BYPyHmrZma6L"
      },
      "outputs": [],
      "source": [
        ""
      ]
    },
    {
      "cell_type": "markdown",
      "metadata": {
        "id": "JAeFNWivlDOY"
      },
      "source": [
        "* 학습 완료된 모델에 대한 예측 시각화"
      ]
    },
    {
      "cell_type": "code",
      "execution_count": null,
      "metadata": {
        "id": "M3oAlKRdUi0Q"
      },
      "outputs": [],
      "source": [
        ""
      ]
    },
    {
      "cell_type": "markdown",
      "metadata": {
        "id": "K93m-5wlj9di"
      },
      "source": [
        "* 공부시간이 6시간일 때 예상 점수는?\n"
      ]
    },
    {
      "cell_type": "code",
      "execution_count": null,
      "metadata": {
        "id": "VTwDTwh5kCFu"
      },
      "outputs": [],
      "source": [
        ""
      ]
    },
    {
      "cell_type": "markdown",
      "metadata": {
        "id": "HuPZDUrGkiaa"
      },
      "source": [
        "### **| step 5. 평가 (Evaluation)**\n",
        "\n",
        "* 훈련 데이터셋\n",
        "\n",
        "|공부시간(x)|종합점수(y)|\n",
        "|------|---|\n",
        "|3|20|\n",
        "|5|50|\n",
        "|5|60|\n",
        "|7|90|\n",
        "|8|100|\n",
        "\n",
        "* 테스트 데이터셋\n",
        "\n",
        "|공부시간(x)|종합점수(y)|\n",
        "|------|---|\n",
        "|1|5|\n",
        "|2|15|\n",
        "|5|55|\n",
        "|6|80|\n",
        "|7|85|"
      ]
    },
    {
      "cell_type": "markdown",
      "metadata": {
        "id": "4NmJ0xmannN-"
      },
      "source": [
        "* 테스트 데이터셋 정의"
      ]
    },
    {
      "cell_type": "code",
      "execution_count": null,
      "metadata": {
        "id": "AOTA_VP4lzEC"
      },
      "outputs": [],
      "source": [
        ""
      ]
    },
    {
      "cell_type": "markdown",
      "metadata": {
        "id": "8XCx9jv2mldX"
      },
      "source": [
        "* 학습 완료된 모델에 테스트 데이터로 최종 손실 계산 (평가)"
      ]
    },
    {
      "cell_type": "code",
      "execution_count": null,
      "metadata": {
        "id": "yA9-cxT1mldY"
      },
      "outputs": [],
      "source": [
        ""
      ]
    },
    {
      "cell_type": "markdown",
      "metadata": {
        "id": "hQ6ImEhomldY"
      },
      "source": [
        "* 학습 완료된 모델에 테스트 데이터 예측 시각화"
      ]
    },
    {
      "cell_type": "code",
      "execution_count": null,
      "metadata": {
        "id": "orzg2SatmldY"
      },
      "outputs": [],
      "source": [
        ""
      ]
    },
    {
      "cell_type": "markdown",
      "metadata": {
        "id": "ihClk4zZoAI4"
      },
      "source": [
        "## 다중 회귀 문제\n",
        "---\n",
        "\n",
        "\n",
        "\n",
        "|공부시간|수면시간|종합점수|\n",
        "|------|---|--|\n",
        "|2|9|20|\n",
        "|6|8|50|\n",
        "|4|7|60|\n",
        "|7|6|90|\n",
        "|8|6|100|\n"
      ]
    },
    {
      "cell_type": "markdown",
      "metadata": {
        "id": "wIoEOBxAoAI-"
      },
      "source": [
        "* 데이터 정의"
      ]
    },
    {
      "cell_type": "code",
      "execution_count": null,
      "metadata": {
        "id": "e99JIH2IoAI-"
      },
      "outputs": [],
      "source": [
        ""
      ]
    },
    {
      "cell_type": "markdown",
      "metadata": {
        "id": "WwIRwRKsoAI-"
      },
      "source": [
        "* 데이터 시각화"
      ]
    },
    {
      "cell_type": "code",
      "execution_count": null,
      "metadata": {
        "id": "kmz_RHY7oAI-"
      },
      "outputs": [],
      "source": [
        ""
      ]
    },
    {
      "cell_type": "markdown",
      "metadata": {
        "id": "P1XJIM3QoAI_"
      },
      "source": [
        "### **| step 1. 모델 구현**\n",
        "\n",
        "$model(\\vec{x};\\vec{w}) = w_1x_1+w_2x_2$"
      ]
    },
    {
      "cell_type": "markdown",
      "metadata": {
        "id": "1rbeL7DdoAI_"
      },
      "source": [
        "* 모델 정의"
      ]
    },
    {
      "cell_type": "code",
      "execution_count": null,
      "metadata": {
        "id": "tIXh_8b3oAI_"
      },
      "outputs": [],
      "source": [
        ""
      ]
    },
    {
      "cell_type": "markdown",
      "metadata": {
        "id": "Ctd2sTIitUlD"
      },
      "source": [
        "* 초기 모델 사용\n",
        "\n",
        "\n",
        "|공부시간|수면시간|종합점수|예측값 ($\\hat{y}$)|\n",
        "|------|---|--|--|\n",
        "|2|9|20|\n",
        "|6|8|50|\n",
        "|4|7|60|\n",
        "|7|6|90|\n",
        "|8|6|100|"
      ]
    },
    {
      "cell_type": "code",
      "execution_count": null,
      "metadata": {
        "id": "X8EkETtStdMY"
      },
      "outputs": [],
      "source": [
        ""
      ]
    },
    {
      "cell_type": "markdown",
      "metadata": {
        "id": "a8BipUgAoAI_"
      },
      "source": [
        "### **| step 2. 손실 (loss) 계산**\n",
        "\n",
        "$loss = |(\\hat{y}-y)|$"
      ]
    },
    {
      "cell_type": "markdown",
      "metadata": {
        "id": "ismq5JEWoAI_"
      },
      "source": [
        "* 손실 계산 과정 정의"
      ]
    },
    {
      "cell_type": "code",
      "execution_count": null,
      "metadata": {
        "id": "pF8gP8tRoAI_"
      },
      "outputs": [],
      "source": [
        ""
      ]
    },
    {
      "cell_type": "markdown",
      "metadata": {
        "id": "j0ygQOChoAI_"
      },
      "source": [
        "### **| step 3. 최적화 (Optimizer)**\n"
      ]
    },
    {
      "cell_type": "markdown",
      "metadata": {
        "id": "TrXTChVioAI_"
      },
      "source": [
        "*  학습 파라미터 $w_1$를 0부터 30, $w_2$를 -10부터 10까지 바꿔가며 손실 계산하기\n"
      ]
    },
    {
      "cell_type": "code",
      "execution_count": null,
      "metadata": {
        "id": "B0wL8d4DoAJA"
      },
      "outputs": [],
      "source": [
        ""
      ]
    },
    {
      "cell_type": "markdown",
      "metadata": {
        "id": "jiwFG-NhqTkN"
      },
      "source": [
        "* 3d플롯으로 시각화"
      ]
    },
    {
      "cell_type": "code",
      "execution_count": null,
      "metadata": {
        "id": "5quWOXGDchhe"
      },
      "outputs": [],
      "source": [
        ""
      ]
    },
    {
      "cell_type": "markdown",
      "metadata": {
        "id": "QtHMuaycoAJA"
      },
      "source": [
        "### **| step 4. 예측 (Prediction)**"
      ]
    },
    {
      "cell_type": "markdown",
      "metadata": {
        "id": "i7E_v8Ga8LQU"
      },
      "source": [
        "* 최적화된 파라미터 정의"
      ]
    },
    {
      "cell_type": "code",
      "execution_count": null,
      "metadata": {
        "id": "QUu5sE-K8NP6"
      },
      "outputs": [],
      "source": [
        ""
      ]
    },
    {
      "cell_type": "markdown",
      "metadata": {
        "id": "Y3GtsybBoAJA"
      },
      "source": [
        "* 학습 완료된 모델의 최종 손실 계산"
      ]
    },
    {
      "cell_type": "code",
      "execution_count": null,
      "metadata": {
        "id": "HeXT9GDnoAJA"
      },
      "outputs": [],
      "source": [
        ""
      ]
    },
    {
      "cell_type": "markdown",
      "metadata": {
        "id": "Uuqeagt3oAJA"
      },
      "source": [
        "* 학습 완료된 모델에 대한 예측 시각화"
      ]
    },
    {
      "cell_type": "code",
      "source": [
        ""
      ],
      "metadata": {
        "id": "Wm2udvPSAsia"
      },
      "execution_count": null,
      "outputs": []
    },
    {
      "cell_type": "markdown",
      "metadata": {
        "id": "24tBE1IfoAJA"
      },
      "source": [
        "* 공부시간이 6시간이고 수면시간 5시간 일 때 예상 점수는?\n"
      ]
    },
    {
      "cell_type": "code",
      "execution_count": null,
      "metadata": {
        "id": "NlzSUkM3oAJA"
      },
      "outputs": [],
      "source": [
        ""
      ]
    },
    {
      "cell_type": "markdown",
      "metadata": {
        "id": "ryN0xOv4oAJB"
      },
      "source": [
        "### **| step 5. 평가 (Evaluation)**\n",
        "\n",
        "* 훈련 데이터셋\n",
        "\n",
        "\n",
        "|공부시간|수면시간|종합점수|\n",
        "|------|---|--|\n",
        "|2|9|20|\n",
        "|6|8|50|\n",
        "|4|7|60|\n",
        "|7|6|90|\n",
        "|8|6|100|\n",
        "\n",
        "* 테스트 데이터셋\n",
        "\n",
        "|공부시간|수면시간|종합점수|\n",
        "|------|---|--|\n",
        "|1|7|15|\n",
        "|3|8|25|\n",
        "|5|7|60|\n",
        "|5|6|90|\n",
        "|10|7|95|"
      ]
    },
    {
      "cell_type": "markdown",
      "metadata": {
        "id": "Ypl_S_QfoAJB"
      },
      "source": [
        "* 테스트 데이터셋 정의"
      ]
    },
    {
      "cell_type": "code",
      "execution_count": null,
      "metadata": {
        "id": "l8LvKjByoAJB"
      },
      "outputs": [],
      "source": [
        ""
      ]
    },
    {
      "cell_type": "markdown",
      "metadata": {
        "id": "DqHAYcIioAJB"
      },
      "source": [
        "* 학습 완료된 모델에 테스트 데이터로 최종 손실 계산"
      ]
    },
    {
      "cell_type": "code",
      "execution_count": null,
      "metadata": {
        "id": "BfEWvhS8oAJB"
      },
      "outputs": [],
      "source": [
        ""
      ]
    },
    {
      "cell_type": "markdown",
      "metadata": {
        "id": "qFRMUCJZoAJB"
      },
      "source": [
        "* 학습 완료된 모델에 테스트 데이터 예측 시각화"
      ]
    },
    {
      "cell_type": "code",
      "execution_count": null,
      "metadata": {
        "id": "R6TVPbqHoAJB"
      },
      "outputs": [],
      "source": [
        ""
      ]
    },
    {
      "cell_type": "code",
      "source": [
        ""
      ],
      "metadata": {
        "id": "Lt5FOTA2I_wJ"
      },
      "execution_count": null,
      "outputs": []
    },
    {
      "cell_type": "markdown",
      "source": [
        "## 클래스 작성하기\n",
        "---\n",
        "\n",
        "```\n",
        "단순 선형회귀 분석 클래스를 작성합니다.\n",
        "\n",
        "model = Model() # 모델 클래스가 생성됩니다.\n",
        "model.fit(xs, ys) # 최적화가 진행됩니다.\n",
        "model.predict(xs) # 예측을 진행합니다.\n",
        "model.validation(xs, ys) # 평가를 진행합니다.\n",
        "```"
      ],
      "metadata": {
        "id": "YE4y3XQfJAO8"
      }
    },
    {
      "cell_type": "code",
      "source": [
        ""
      ],
      "metadata": {
        "id": "UxHpUFznJhwr"
      },
      "execution_count": null,
      "outputs": []
    }
  ],
  "metadata": {
    "colab": {
      "collapsed_sections": [],
      "name": "ch05_03_기초모델구현-회귀모델맛보기.ipynb",
      "provenance": [],
      "include_colab_link": true
    },
    "kernelspec": {
      "display_name": "Python 3",
      "name": "python3"
    },
    "language_info": {
      "name": "python"
    }
  },
  "nbformat": 4,
  "nbformat_minor": 0
}