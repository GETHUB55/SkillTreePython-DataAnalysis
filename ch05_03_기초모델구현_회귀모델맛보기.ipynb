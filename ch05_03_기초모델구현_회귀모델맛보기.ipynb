{
  "cells": [
    {
      "cell_type": "markdown",
      "metadata": {
        "id": "view-in-github",
        "colab_type": "text"
      },
      "source": [
        "<a href=\"https://colab.research.google.com/github/GETHUB55/SkillTreePython-DataAnalysis/blob/main/ch05_03_%EA%B8%B0%EC%B4%88%EB%AA%A8%EB%8D%B8%EA%B5%AC%ED%98%84_%ED%9A%8C%EA%B7%80%EB%AA%A8%EB%8D%B8%EB%A7%9B%EB%B3%B4%EA%B8%B0.ipynb\" target=\"_parent\"><img src=\"https://colab.research.google.com/assets/colab-badge.svg\" alt=\"Open In Colab\"/></a>"
      ]
    },
    {
      "cell_type": "markdown",
      "metadata": {
        "id": "wWpXZc2fi39U"
      },
      "source": [
        "# ch05.03. 기초모델 구현 - 회귀모델 맛보기\n",
        "---\n",
        "* 날짜:22.06.29\n",
        "* 이름:조수빈\n",
        "\n",
        "## 학습내용\n",
        "    - 회귀 분석의 개념에 대해 이해한다\n",
        "    - 단순 회귀 문제일 때의 프로세스에 대해 이해한다.\n",
        "    - 다중 회귀 문제일 때의 프로세스에 대해 이해한다.\n",
        "    - 모델링에 대한 전체적인 프로세스 과정을 이해한다. "
      ]
    },
    {
      "cell_type": "markdown",
      "metadata": {
        "id": "kByKdJPApy6P"
      },
      "source": [
        "```\n",
        "import numpy as np\n",
        "import matplotlib.pyplot as plt\n",
        "plt.style.use(\"ggplot\")\n",
        "```"
      ]
    },
    {
      "cell_type": "code",
      "execution_count": null,
      "metadata": {
        "id": "rJvcz-JikHbE"
      },
      "outputs": [],
      "source": [
        "import numpy as np\n",
        "import matplotlib.pyplot as plt\n",
        "plt.style.use(\"ggplot\")"
      ]
    },
    {
      "cell_type": "markdown",
      "metadata": {
        "id": "0XIixAG202GE"
      },
      "source": [
        "## 단순 회귀 문제\n",
        "---\n",
        "\n"
      ]
    },
    {
      "cell_type": "markdown",
      "metadata": {
        "id": "J7YFAQAl-i-v"
      },
      "source": [
        "\n",
        "|공부시간(x)|종합점수(y)|\n",
        "|------|---|\n",
        "|3|20|\n",
        "|5|50|\n",
        "|5|60|\n",
        "|7|90|\n",
        "|8|100|"
      ]
    },
    {
      "cell_type": "markdown",
      "metadata": {
        "id": "bxnIJBzukmUi"
      },
      "source": [
        "* 데이터 정의"
      ]
    },
    {
      "cell_type": "code",
      "execution_count": null,
      "metadata": {
        "id": "6-4N0_z4ZQrm",
        "outputId": "daf241f5-d98d-487b-8d40-515728ad59b2",
        "colab": {
          "base_uri": "https://localhost:8080/"
        }
      },
      "outputs": [
        {
          "output_type": "execute_result",
          "data": {
            "text/plain": [
              "((5,), (5,))"
            ]
          },
          "metadata": {},
          "execution_count": 4
        }
      ],
      "source": [
        "x= np.array([3,5,5,7,8])\n",
        "y= np.array([20,50,60,90,100])\n",
        "x.shape, y.shape"
      ]
    },
    {
      "cell_type": "markdown",
      "metadata": {
        "id": "24xjAjtnknyQ"
      },
      "source": [
        "* 데이터 시각화"
      ]
    },
    {
      "cell_type": "code",
      "execution_count": null,
      "metadata": {
        "id": "XJiw7pyIZZUs",
        "outputId": "d5f27ced-aad0-4041-a870-62cdc4027f69",
        "colab": {
          "base_uri": "https://localhost:8080/",
          "height": 300
        }
      },
      "outputs": [
        {
          "output_type": "execute_result",
          "data": {
            "text/plain": [
              "Text(0, 0.5, 'scare(y)')"
            ]
          },
          "metadata": {},
          "execution_count": 5
        },
        {
          "output_type": "display_data",
          "data": {
            "text/plain": [
              "<Figure size 432x288 with 1 Axes>"
            ],
            "image/png": "[encoded data removed]"
          },
          "metadata": {}
        }
      ],
      "source": [
        "plt.scatter(x,y, label='data')\n",
        "plt.legend()\n",
        "plt.xlabel('study time(x)')\n",
        "plt.ylabel('scare(y)')"
      ]
    },
    {
      "cell_type": "markdown",
      "metadata": {
        "id": "T78Jn-w51W8b"
      },
      "source": [
        "### **| step 1. 모델 구현**\n",
        "\n",
        "$model(x;w) = wx$\n",
        "\n",
        "\n",
        "\n",
        "*   x는 함수의 인풋\n",
        "*  ; 세미콜론 뒤에 있는 값은 : 함수 안에 있는 파라미터\n",
        "\n",
        "\n",
        "\n",
        "\n"
      ]
    },
    {
      "cell_type": "markdown",
      "metadata": {
        "id": "1oRII_2Unt4j"
      },
      "source": [
        "* 모델 정의"
      ]
    },
    {
      "cell_type": "code",
      "execution_count": null,
      "metadata": {
        "id": "CiPKoWjG1Vzi"
      },
      "outputs": [],
      "source": [
        "def model(x,w=1):\n",
        " return x*w"
      ]
    },
    {
      "cell_type": "markdown",
      "metadata": {
        "id": "tw0Gic-hHsr-"
      },
      "source": [
        "* 초기 모델 사용\n",
        "\n",
        "\n",
        "|공부시간(x)|종합점수(y)| 예측값 ($\\hat{y})$|\n",
        "|------|---|--|\n",
        "|3|20||\n",
        "|5|50||\n",
        "|5|60||\n",
        "|7|90||\n",
        "|8|100||"
      ]
    },
    {
      "cell_type": "code",
      "execution_count": null,
      "metadata": {
        "id": "Lx2tRC8uHssE",
        "outputId": "616fc1bf-95ed-44cf-f22c-490e580d277c",
        "colab": {
          "base_uri": "https://localhost:8080/"
        }
      },
      "outputs": [
        {
          "output_type": "stream",
          "name": "stdout",
          "text": [
            "[3 5 5 7 8]\n"
          ]
        },
        {
          "output_type": "execute_result",
          "data": {
            "text/plain": [
              "array([3, 5, 5, 7, 8])"
            ]
          },
          "metadata": {},
          "execution_count": 10
        }
      ],
      "source": [
        "print(x)\n",
        "model(x)"
      ]
    },
    {
      "cell_type": "markdown",
      "metadata": {
        "id": "wXlz0IPRa2Ww"
      },
      "source": [
        "### **| step 2. 손실 (loss) 계산**\n",
        "\n",
        "$loss = |(\\hat{y}-y)|$"
      ]
    },
    {
      "cell_type": "markdown",
      "metadata": {
        "id": "Qz5lqzyYnvML"
      },
      "source": [
        "* 손실 계산 과정 정의"
      ]
    },
    {
      "cell_type": "code",
      "execution_count": null,
      "metadata": {
        "id": "Cf0XkrL7-jFw",
        "outputId": "f66f3a20-6204-4bec-c07a-8a5aea364c67",
        "colab": {
          "base_uri": "https://localhost:8080/"
        }
      },
      "outputs": [
        {
          "output_type": "stream",
          "name": "stdout",
          "text": [
            "x: [3 5 5 7 8]\n",
            "y: [ 20  50  60  90 100]\n",
            "y_hat: [3 5 5 7 8]\n",
            "error: 58.4\n"
          ]
        }
      ],
      "source": [
        "def loss(y,y_hat):\n",
        "  return np.sum(np.abs(y-y_hat)) / len(y)\n",
        "\n",
        "\n",
        "y_hat= model(x)\n",
        "error = loss(y,y_hat)\n",
        "print(f'x: {x}')  \n",
        "print(f'y: {y}') \n",
        "print(f'y_hat: {y_hat}')  \n",
        "print(f'error: {error}') "
      ]
    },
    {
      "cell_type": "markdown",
      "metadata": {
        "id": "d6llwXUYUils"
      },
      "source": [
        "### **| step 3. 최적화 (Optimizer)**\n"
      ]
    },
    {
      "cell_type": "markdown",
      "metadata": {
        "id": "h6Z4rnEieM9B"
      },
      "source": [
        "*  학습 파라미터 $w$를 5부터 20까지 바꿔가며 손실 계산하기\n"
      ]
    },
    {
      "cell_type": "code",
      "execution_count": null,
      "metadata": {
        "id": "CVcY1IrX6oMQ",
        "outputId": "119acdc9-cc1d-4e0c-91a7-a63973b27811",
        "colab": {
          "base_uri": "https://localhost:8080/",
          "height": 633
        }
      },
      "outputs": [
        {
          "output_type": "stream",
          "name": "stdout",
          "text": [
            "w=1 일때 error=58.4 \n",
            "w=2 일때 error=52.8 \n",
            "w=3 일때 error=47.2 \n",
            "w=4 일때 error=41.6 \n",
            "w=5 일때 error=36.0 \n",
            "w=6 일때 error=30.4 \n",
            "w=7 일때 error=25.2 \n",
            "w=8 일때 error=20.8 \n",
            "w=9 일때 error=16.4 \n",
            "w=10 일때 error=12.0 \n",
            "w=11 일때 error=9.6 \n",
            "w=12 일때 error=7.2 \n",
            "w=13 일때 error=8.8 \n",
            "w=14 일때 error=14.4 \n",
            "w=15 일때 error=20.0 \n",
            "w=16 일때 error=25.6 \n",
            "w=17 일때 error=31.2 \n",
            "w=18 일때 error=36.8 \n",
            "w=19 일때 error=42.4 \n",
            "w=20 일때 error=48.0 \n"
          ]
        },
        {
          "output_type": "display_data",
          "data": {
            "text/plain": [
              "<Figure size 432x288 with 1 Axes>"
            ],
            "image/png": "[encoded data removed]"
          },
          "metadata": {}
        }
      ],
      "source": [
        "for w in range(1,21):\n",
        "  y_pred = model(x,w=w)\n",
        "  error = loss(y,y_pred)\n",
        "  print(f'w={w} 일때 error={error} ')\n",
        "\n",
        "# 가중치w에 대한 오차 error 시각화\n",
        "  plt.scatter(w,error)\n",
        "\n"
      ]
    },
    {
      "cell_type": "markdown",
      "metadata": {
        "id": "oGdLxsS6i-Dx"
      },
      "source": [
        "### **| step 4. 예측 (Prediction)**"
      ]
    },
    {
      "cell_type": "markdown",
      "metadata": {
        "id": "4IZWpxblmXf4"
      },
      "source": [
        "* 학습 완료된 모델의 최종 손실 계산"
      ]
    },
    {
      "cell_type": "code",
      "execution_count": null,
      "metadata": {
        "id": "BYPyHmrZma6L",
        "colab": {
          "base_uri": "https://localhost:8080/"
        },
        "outputId": "2edfcbf0-9c13-41b2-81ff-ca94bf4bd108"
      },
      "outputs": [
        {
          "output_type": "stream",
          "name": "stdout",
          "text": [
            "7.2\n"
          ]
        }
      ],
      "source": [
        "w_ = 12\n",
        "y_pred = model(x,w=w_)\n",
        "error = loss(y,y_pred)\n",
        "print(error)"
      ]
    },
    {
      "cell_type": "markdown",
      "metadata": {
        "id": "JAeFNWivlDOY"
      },
      "source": [
        "* 학습 완료된 모델에 대한 예측 시각화"
      ]
    },
    {
      "cell_type": "code",
      "execution_count": null,
      "metadata": {
        "id": "M3oAlKRdUi0Q",
        "outputId": "2e43c572-adce-4d31-ebf2-64589f1e67f0",
        "colab": {
          "base_uri": "https://localhost:8080/",
          "height": 300
        }
      },
      "outputs": [
        {
          "output_type": "execute_result",
          "data": {
            "text/plain": [
              "Text(0, 0.5, 'scare(y)')"
            ]
          },
          "metadata": {},
          "execution_count": 40
        },
        {
          "output_type": "display_data",
          "data": {
            "text/plain": [
              "<Figure size 432x288 with 1 Axes>"
            ],
            "image/png": "[encoded data removed]"
          },
          "metadata": {}
        }
      ],
      "source": [
        "test_x = np.linspace(0, 10, 50)\n",
        "#print(test_x)\n",
        "test_y_pred = model(test_x,w=w_)\n",
        "#print(test_y_pred)\n",
        "\n",
        "# x값에 따른 y값\n",
        "plt.scatter(x,y , label='data', c='k') #좌표 평면에 점 찍기\n",
        "plt.plot(test_x,test_y_pred,label='model') #모델의 직선 그리기\n",
        "plt.legend()\n",
        "plt.xlabel('study time(x)')\n",
        "plt.ylabel('scare(y)')"
      ]
    },
    {
      "cell_type": "markdown",
      "metadata": {
        "id": "K93m-5wlj9di"
      },
      "source": [
        "* 공부시간이 6시간일 때 예상 점수는?\n"
      ]
    },
    {
      "cell_type": "code",
      "execution_count": null,
      "metadata": {
        "id": "VTwDTwh5kCFu",
        "outputId": "266b84f2-6dd9-460a-eb8c-c4549c9c812f",
        "colab": {
          "base_uri": "https://localhost:8080/"
        }
      },
      "outputs": [
        {
          "output_type": "execute_result",
          "data": {
            "text/plain": [
              "72"
            ]
          },
          "metadata": {},
          "execution_count": 33
        }
      ],
      "source": [
        "model(6,w=w_)"
      ]
    },
    {
      "cell_type": "markdown",
      "metadata": {
        "id": "HuPZDUrGkiaa"
      },
      "source": [
        "### **| step 5. 평가 (Evaluation)**\n",
        "\n",
        "* 훈련 데이터셋\n",
        "\n",
        "|공부시간(x)|종합점수(y)|\n",
        "|------|---|\n",
        "|3|20|\n",
        "|5|50|\n",
        "|5|60|\n",
        "|7|90|\n",
        "|8|100|\n",
        "\n",
        "* 테스트 데이터셋\n",
        "\n",
        "|공부시간(x)|종합점수(y)|\n",
        "|------|---|\n",
        "|1|5|\n",
        "|2|15|\n",
        "|5|55|\n",
        "|6|80|\n",
        "|7|85|"
      ]
    },
    {
      "cell_type": "markdown",
      "metadata": {
        "id": "4NmJ0xmannN-"
      },
      "source": [
        "* 테스트 데이터셋 정의"
      ]
    },
    {
      "cell_type": "code",
      "execution_count": null,
      "metadata": {
        "id": "AOTA_VP4lzEC"
      },
      "outputs": [],
      "source": [
        "x_test= np.array([1,2,5,6,7])\n",
        "y_test= np.array([5,15,55,80,85])\n"
      ]
    },
    {
      "cell_type": "markdown",
      "metadata": {
        "id": "8XCx9jv2mldX"
      },
      "source": [
        "* 학습 완료된 모델에 테스트 데이터로 최종 손실 계산 (평가)"
      ]
    },
    {
      "cell_type": "code",
      "execution_count": null,
      "metadata": {
        "id": "yA9-cxT1mldY",
        "outputId": "288b522c-46a7-40bc-fc1e-66195a44d763",
        "colab": {
          "base_uri": "https://localhost:8080/"
        }
      },
      "outputs": [
        {
          "output_type": "execute_result",
          "data": {
            "text/plain": [
              "6.0"
            ]
          },
          "metadata": {},
          "execution_count": 39
        }
      ],
      "source": [
        "loss(y_test, model(x_test, w=w_))"
      ]
    },
    {
      "cell_type": "markdown",
      "metadata": {
        "id": "hQ6ImEhomldY"
      },
      "source": [
        "* 학습 완료된 모델에 테스트 데이터 예측 시각화"
      ]
    },
    {
      "cell_type": "code",
      "execution_count": null,
      "metadata": {
        "id": "orzg2SatmldY",
        "outputId": "eecbe612-dfb1-4d8b-9a8a-329e72f35be5",
        "colab": {
          "base_uri": "https://localhost:8080/",
          "height": 300
        }
      },
      "outputs": [
        {
          "output_type": "execute_result",
          "data": {
            "text/plain": [
              "Text(0, 0.5, 'scare(y)')"
            ]
          },
          "metadata": {},
          "execution_count": 41
        },
        {
          "output_type": "display_data",
          "data": {
            "text/plain": [
              "<Figure size 432x288 with 1 Axes>"
            ],
            "image/png": "[encoded data removed]"
          },
          "metadata": {}
        }
      ],
      "source": [
        "# x값에 따른 y값\n",
        "\n",
        "#데이터\n",
        "plt.scatter(x,y , label='data', c='k') #좌표 평면에 점 찍기\n",
        "#모델\n",
        "plt.plot(test_x,test_y_pred,label='model') #모델의 직선 그리기\n",
        "#테스트 데이터\n",
        "plt.scatter(x_test,y_test , label='test data', c='b')\n",
        "\n",
        "plt.legend()\n",
        "plt.xlabel('study time(x)')\n",
        "plt.ylabel('scare(y)')"
      ]
    },
    {
      "cell_type": "markdown",
      "metadata": {
        "id": "ihClk4zZoAI4"
      },
      "source": [
        "## 다중 회귀 문제\n",
        "---\n",
        "\n",
        "\n",
        "\n",
        "|공부시간|수면시간|종합점수|\n",
        "|------|---|--|\n",
        "|2|9|20|\n",
        "|6|8|50|\n",
        "|4|7|60|\n",
        "|7|6|90|\n",
        "|8|6|100|\n"
      ]
    },
    {
      "cell_type": "markdown",
      "metadata": {
        "id": "wIoEOBxAoAI-"
      },
      "source": [
        "* 데이터 정의"
      ]
    },
    {
      "cell_type": "code",
      "execution_count": null,
      "metadata": {
        "id": "e99JIH2IoAI-",
        "outputId": "80db48be-5744-422d-b2c9-e2e1d4788ecb",
        "colab": {
          "base_uri": "https://localhost:8080/"
        }
      },
      "outputs": [
        {
          "output_type": "stream",
          "name": "stdout",
          "text": [
            "[[2 9]\n",
            " [6 8]\n",
            " [4 7]\n",
            " [7 6]\n",
            " [8 6]] (5, 2)\n",
            "[ 20  50  60  90 100] (5,)\n"
          ]
        }
      ],
      "source": [
        "x=np.array([2,9,6,8,4,7,7,6,8,6]).reshape(5,2)\n",
        "y=np.array([20,50,60,90,100])\n",
        "print(x,x.shape)\n",
        "print(y,y.shape)"
      ]
    },
    {
      "cell_type": "markdown",
      "metadata": {
        "id": "WwIRwRKsoAI-"
      },
      "source": [
        "* 데이터 시각화"
      ]
    },
    {
      "cell_type": "code",
      "execution_count": null,
      "metadata": {
        "id": "kmz_RHY7oAI-",
        "outputId": "ebec7d9f-4047-4e14-e7e6-c0f6dc424a50",
        "colab": {
          "base_uri": "https://localhost:8080/",
          "height": 375
        }
      },
      "outputs": [
        {
          "output_type": "execute_result",
          "data": {
            "text/plain": [
              "Text(0.5, 0, 'score')"
            ]
          },
          "metadata": {},
          "execution_count": 52
        },
        {
          "output_type": "display_data",
          "data": {
            "text/plain": [
              "<Figure size 576x432 with 1 Axes>"
            ],
            "image/png": "[encoded data removed]"
          },
          "metadata": {}
        }
      ],
      "source": [
        "fig = plt.figure(figsize = (8,6)) # 그림 전체 사이즈 설정\n",
        "ax = plt.axes(projection = '3d') # 좌표를 3d로 설정\n",
        "# 공부시간(x_*1), 수면시간 (x_*2), 성적(y)\n",
        "study_time = x[:, 0]\n",
        "sleep_time =  x[:, 1]\n",
        "ax.scatter3D(study_time, sleep_time, y, c='k', label='data')\n",
        "ax.set_xlabel('study time')\n",
        "ax.set_ylabel('sleep time')\n",
        "ax.set_zlabel('score')\n"
      ]
    },
    {
      "cell_type": "markdown",
      "metadata": {
        "id": "P1XJIM3QoAI_"
      },
      "source": [
        "### **| step 1. 모델 구현**\n",
        "\n",
        "$model(\\vec{x};\\vec{w}) = w_1x_1+w_2x_2$"
      ]
    },
    {
      "cell_type": "markdown",
      "metadata": {
        "id": "1rbeL7DdoAI_"
      },
      "source": [
        "* 모델 정의"
      ]
    },
    {
      "cell_type": "code",
      "execution_count": null,
      "metadata": {
        "id": "tIXh_8b3oAI_",
        "outputId": "4d0970b0-f5ce-4b77-f7f2-8d71228ade93",
        "colab": {
          "base_uri": "https://localhost:8080/"
        }
      },
      "outputs": [
        {
          "output_type": "execute_result",
          "data": {
            "text/plain": [
              "15"
            ]
          },
          "metadata": {},
          "execution_count": 54
        }
      ],
      "source": [
        "def model2(x_vec,w_vec=np.array([1,1])):\n",
        "  return np.dot(x_vec,w_vec)\n",
        "x_vec = np.array([5,10])\n",
        "model2(x_vec)"
      ]
    },
    {
      "cell_type": "markdown",
      "metadata": {
        "id": "Ctd2sTIitUlD"
      },
      "source": [
        "* 초기 모델 사용\n",
        "\n",
        "\n",
        "|공부시간|수면시간|종합점수|예측값 ($\\hat{y}$)|\n",
        "|------|---|--|--|\n",
        "|2|9|20|\n",
        "|6|8|50|\n",
        "|4|7|60|\n",
        "|7|6|90|\n",
        "|8|6|100|"
      ]
    },
    {
      "cell_type": "code",
      "execution_count": null,
      "metadata": {
        "id": "X8EkETtStdMY",
        "outputId": "c4dfdf4d-f446-45ad-b3a8-812aec7c8b68",
        "colab": {
          "base_uri": "https://localhost:8080/"
        }
      },
      "outputs": [
        {
          "output_type": "stream",
          "name": "stdout",
          "text": [
            "[[2 9]\n",
            " [6 8]\n",
            " [4 7]\n",
            " [7 6]\n",
            " [8 6]]\n"
          ]
        },
        {
          "output_type": "execute_result",
          "data": {
            "text/plain": [
              "array([11, 14, 11, 13, 14])"
            ]
          },
          "metadata": {},
          "execution_count": 57
        }
      ],
      "source": [
        "print(x)\n",
        "model2(x)"
      ]
    },
    {
      "cell_type": "markdown",
      "metadata": {
        "id": "a8BipUgAoAI_"
      },
      "source": [
        "### **| step 2. 손실 (loss) 계산**\n",
        "\n",
        "$loss = |(\\hat{y}-y)|$"
      ]
    },
    {
      "cell_type": "markdown",
      "metadata": {
        "id": "ismq5JEWoAI_"
      },
      "source": [
        "* 손실 계산 과정 정의"
      ]
    },
    {
      "cell_type": "code",
      "execution_count": null,
      "metadata": {
        "id": "pF8gP8tRoAI_",
        "outputId": "2cd50049-27a8-409b-b6ee-4bf6a9df6ce7",
        "colab": {
          "base_uri": "https://localhost:8080/"
        }
      },
      "outputs": [
        {
          "output_type": "stream",
          "name": "stdout",
          "text": [
            "x: [[2 9]\n",
            " [6 8]\n",
            " [4 7]\n",
            " [7 6]\n",
            " [8 6]]\n",
            "y: [ 20  50  60  90 100]\n",
            "y_hat: [11 14 11 13 14]\n",
            "error: 51.4\n"
          ]
        }
      ],
      "source": [
        "def loss(y,y_hat):\n",
        "  return np.sum(np.abs(y-y_hat)) / len(y) #각 샘플의 오차평균\n",
        "\n",
        "y_hat= model2(x)\n",
        "error = loss(y,y_hat)\n",
        "print(f'x: {x}')  \n",
        "print(f'y: {y}') \n",
        "print(f'y_hat: {y_hat}')  \n",
        "print(f'error: {error}') "
      ]
    },
    {
      "cell_type": "markdown",
      "metadata": {
        "id": "j0ygQOChoAI_"
      },
      "source": [
        "### **| step 3. 최적화 (Optimizer)**\n"
      ]
    },
    {
      "cell_type": "markdown",
      "metadata": {
        "id": "TrXTChVioAI_"
      },
      "source": [
        "*  학습 파라미터 $w_1$를 0부터 30, $w_2$를 -10부터 10까지 바꿔가며 손실 계산하기\n"
      ]
    },
    {
      "cell_type": "code",
      "execution_count": 64,
      "metadata": {
        "id": "B0wL8d4DoAJA",
        "outputId": "db998180-7041-433d-e87c-14c4b2da56bc",
        "colab": {
          "base_uri": "https://localhost:8080/"
        }
      },
      "outputs": [
        {
          "output_type": "stream",
          "name": "stdout",
          "text": [
            "[ 0  1  2  3  4  5  6  7  8  9 10 11 12 13 14 15 16 17 18 19 20 21 22 23\n",
            " 24 25 26 27 28 29 30]\n",
            "[-10  -9  -8  -7  -6  -5  -4  -3  -2  -1   0   1   2   3   4   5   6   7\n",
            "   8   9  10]\n"
          ]
        }
      ],
      "source": [
        "w1_range= np.arange(31)\n",
        "w2_range=np.arange(-10,11)\n",
        "print(w1_range)\n",
        "print(w2_range)\n",
        "# (w1,w2) 순서쌍\n",
        "W1, W2 = np.meshgrid(w1_range, w2_range) #순서쌍 meshgrid\n",
        "\n",
        "\n"
      ]
    },
    {
      "cell_type": "code",
      "source": [
        "errors = []\n",
        "for w1,w2 in zip(W1.flatten(),W2.flatten()):\n",
        "  y_pred =  model2(x, w_vec=np.array([w1,w2]))\n",
        "  error = loss(y,y_pred)\n",
        "  print(f'w1={w1},w2={w2} 일때 예측값은 {y_pred}이고, 오차는 {error}')\n",
        "  errors.append(error)\n",
        "print(errors)"
      ],
      "metadata": {
        "id": "hPm5ANqP_ELt",
        "outputId": "2f3c2eac-67de-4622-ab8a-1f2f72584d04",
        "colab": {
          "base_uri": "https://localhost:8080/"
        }
      },
      "execution_count": 77,
      "outputs": [
        {
          "output_type": "stream",
          "name": "stdout",
          "text": [
            "w1=0,w2=-10 일때 예측값은 [-90 -80 -70 -60 -60]이고, 오차는 136.0\n",
            "w1=1,w2=-10 일때 예측값은 [-88 -74 -66 -53 -52]이고, 오차는 130.6\n",
            "w1=2,w2=-10 일때 예측값은 [-86 -68 -62 -46 -44]이고, 오차는 125.2\n",
            "w1=3,w2=-10 일때 예측값은 [-84 -62 -58 -39 -36]이고, 오차는 119.8\n",
            "w1=4,w2=-10 일때 예측값은 [-82 -56 -54 -32 -28]이고, 오차는 114.4\n",
            "w1=5,w2=-10 일때 예측값은 [-80 -50 -50 -25 -20]이고, 오차는 109.0\n",
            "w1=6,w2=-10 일때 예측값은 [-78 -44 -46 -18 -12]이고, 오차는 103.6\n",
            "w1=7,w2=-10 일때 예측값은 [-76 -38 -42 -11  -4]이고, 오차는 98.2\n",
            "w1=8,w2=-10 일때 예측값은 [-74 -32 -38  -4   4]이고, 오차는 92.8\n",
            "w1=9,w2=-10 일때 예측값은 [-72 -26 -34   3  12]이고, 오차는 87.4\n",
            "w1=10,w2=-10 일때 예측값은 [-70 -20 -30  10  20]이고, 오차는 82.0\n",
            "w1=11,w2=-10 일때 예측값은 [-68 -14 -26  17  28]이고, 오차는 76.6\n",
            "w1=12,w2=-10 일때 예측값은 [-66  -8 -22  24  36]이고, 오차는 71.2\n",
            "w1=13,w2=-10 일때 예측값은 [-64  -2 -18  31  44]이고, 오차는 65.8\n",
            "w1=14,w2=-10 일때 예측값은 [-62   4 -14  38  52]이고, 오차는 60.4\n",
            "w1=15,w2=-10 일때 예측값은 [-60  10 -10  45  60]이고, 오차는 55.0\n",
            "w1=16,w2=-10 일때 예측값은 [-58  16  -6  52  68]이고, 오차는 49.6\n",
            "w1=17,w2=-10 일때 예측값은 [-56  22  -2  59  76]이고, 오차는 44.2\n",
            "w1=18,w2=-10 일때 예측값은 [-54  28   2  66  84]이고, 오차는 38.8\n",
            "w1=19,w2=-10 일때 예측값은 [-52  34   6  73  92]이고, 오차는 33.4\n",
            "w1=20,w2=-10 일때 예측값은 [-50  40  10  80 100]이고, 오차는 28.0\n",
            "w1=21,w2=-10 일때 예측값은 [-48  46  14  87 108]이고, 오차는 25.8\n",
            "w1=22,w2=-10 일때 예측값은 [-46  52  18  94 116]이고, 오차는 26.0\n",
            "w1=23,w2=-10 일때 예측값은 [-44  58  22 101 124]이고, 오차는 29.0\n",
            "w1=24,w2=-10 일때 예측값은 [-42  64  26 108 132]이고, 오차는 32.0\n",
            "w1=25,w2=-10 일때 예측값은 [-40  70  30 115 140]이고, 오차는 35.0\n",
            "w1=26,w2=-10 일때 예측값은 [-38  76  34 122 148]이고, 오차는 38.0\n",
            "w1=27,w2=-10 일때 예측값은 [-36  82  38 129 156]이고, 오차는 41.0\n",
            "w1=28,w2=-10 일때 예측값은 [-34  88  42 136 164]이고, 오차는 44.0\n",
            "w1=29,w2=-10 일때 예측값은 [-32  94  46 143 172]이고, 오차는 47.0\n",
            "w1=30,w2=-10 일때 예측값은 [-30 100  50 150 180]이고, 오차는 50.0\n",
            "w1=0,w2=-9 일때 예측값은 [-81 -72 -63 -54 -54]이고, 오차는 128.8\n",
            "w1=1,w2=-9 일때 예측값은 [-79 -66 -59 -47 -46]이고, 오차는 123.4\n",
            "w1=2,w2=-9 일때 예측값은 [-77 -60 -55 -40 -38]이고, 오차는 118.0\n",
            "w1=3,w2=-9 일때 예측값은 [-75 -54 -51 -33 -30]이고, 오차는 112.6\n",
            "w1=4,w2=-9 일때 예측값은 [-73 -48 -47 -26 -22]이고, 오차는 107.2\n",
            "w1=5,w2=-9 일때 예측값은 [-71 -42 -43 -19 -14]이고, 오차는 101.8\n",
            "w1=6,w2=-9 일때 예측값은 [-69 -36 -39 -12  -6]이고, 오차는 96.4\n",
            "w1=7,w2=-9 일때 예측값은 [-67 -30 -35  -5   2]이고, 오차는 91.0\n",
            "w1=8,w2=-9 일때 예측값은 [-65 -24 -31   2  10]이고, 오차는 85.6\n",
            "w1=9,w2=-9 일때 예측값은 [-63 -18 -27   9  18]이고, 오차는 80.2\n",
            "w1=10,w2=-9 일때 예측값은 [-61 -12 -23  16  26]이고, 오차는 74.8\n",
            "w1=11,w2=-9 일때 예측값은 [-59  -6 -19  23  34]이고, 오차는 69.4\n",
            "w1=12,w2=-9 일때 예측값은 [-57   0 -15  30  42]이고, 오차는 64.0\n",
            "w1=13,w2=-9 일때 예측값은 [-55   6 -11  37  50]이고, 오차는 58.6\n",
            "w1=14,w2=-9 일때 예측값은 [-53  12  -7  44  58]이고, 오차는 53.2\n",
            "w1=15,w2=-9 일때 예측값은 [-51  18  -3  51  66]이고, 오차는 47.8\n",
            "w1=16,w2=-9 일때 예측값은 [-49  24   1  58  74]이고, 오차는 42.4\n",
            "w1=17,w2=-9 일때 예측값은 [-47  30   5  65  82]이고, 오차는 37.0\n",
            "w1=18,w2=-9 일때 예측값은 [-45  36   9  72  90]이고, 오차는 31.6\n",
            "w1=19,w2=-9 일때 예측값은 [-43  42  13  79  98]이고, 오차는 26.2\n",
            "w1=20,w2=-9 일때 예측값은 [-41  48  17  86 106]이고, 오차는 23.2\n",
            "w1=21,w2=-9 일때 예측값은 [-39  54  21  93 114]이고, 오차는 23.8\n",
            "w1=22,w2=-9 일때 예측값은 [-37  60  25 100 122]이고, 오차는 26.8\n",
            "w1=23,w2=-9 일때 예측값은 [-35  66  29 107 130]이고, 오차는 29.8\n",
            "w1=24,w2=-9 일때 예측값은 [-33  72  33 114 138]이고, 오차는 32.8\n",
            "w1=25,w2=-9 일때 예측값은 [-31  78  37 121 146]이고, 오차는 35.8\n",
            "w1=26,w2=-9 일때 예측값은 [-29  84  41 128 154]이고, 오차는 38.8\n",
            "w1=27,w2=-9 일때 예측값은 [-27  90  45 135 162]이고, 오차는 41.8\n",
            "w1=28,w2=-9 일때 예측값은 [-25  96  49 142 170]이고, 오차는 44.8\n",
            "w1=29,w2=-9 일때 예측값은 [-23 102  53 149 178]이고, 오차는 47.8\n",
            "w1=30,w2=-9 일때 예측값은 [-21 108  57 156 186]이고, 오차는 50.8\n",
            "w1=0,w2=-8 일때 예측값은 [-72 -64 -56 -48 -48]이고, 오차는 121.6\n",
            "w1=1,w2=-8 일때 예측값은 [-70 -58 -52 -41 -40]이고, 오차는 116.2\n",
            "w1=2,w2=-8 일때 예측값은 [-68 -52 -48 -34 -32]이고, 오차는 110.8\n",
            "w1=3,w2=-8 일때 예측값은 [-66 -46 -44 -27 -24]이고, 오차는 105.4\n",
            "w1=4,w2=-8 일때 예측값은 [-64 -40 -40 -20 -16]이고, 오차는 100.0\n",
            "w1=5,w2=-8 일때 예측값은 [-62 -34 -36 -13  -8]이고, 오차는 94.6\n",
            "w1=6,w2=-8 일때 예측값은 [-60 -28 -32  -6   0]이고, 오차는 89.2\n",
            "w1=7,w2=-8 일때 예측값은 [-58 -22 -28   1   8]이고, 오차는 83.8\n",
            "w1=8,w2=-8 일때 예측값은 [-56 -16 -24   8  16]이고, 오차는 78.4\n",
            "w1=9,w2=-8 일때 예측값은 [-54 -10 -20  15  24]이고, 오차는 73.0\n",
            "w1=10,w2=-8 일때 예측값은 [-52  -4 -16  22  32]이고, 오차는 67.6\n",
            "w1=11,w2=-8 일때 예측값은 [-50   2 -12  29  40]이고, 오차는 62.2\n",
            "w1=12,w2=-8 일때 예측값은 [-48   8  -8  36  48]이고, 오차는 56.8\n",
            "w1=13,w2=-8 일때 예측값은 [-46  14  -4  43  56]이고, 오차는 51.4\n",
            "w1=14,w2=-8 일때 예측값은 [-44  20   0  50  64]이고, 오차는 46.0\n",
            "w1=15,w2=-8 일때 예측값은 [-42  26   4  57  72]이고, 오차는 40.6\n",
            "w1=16,w2=-8 일때 예측값은 [-40  32   8  64  80]이고, 오차는 35.2\n",
            "w1=17,w2=-8 일때 예측값은 [-38  38  12  71  88]이고, 오차는 29.8\n",
            "w1=18,w2=-8 일때 예측값은 [-36  44  16  78  96]이고, 오차는 24.4\n",
            "w1=19,w2=-8 일때 예측값은 [-34  50  20  85 104]이고, 오차는 20.6\n",
            "w1=20,w2=-8 일때 예측값은 [-32  56  24  92 112]이고, 오차는 21.6\n",
            "w1=21,w2=-8 일때 예측값은 [-30  62  28  99 120]이고, 오차는 24.6\n",
            "w1=22,w2=-8 일때 예측값은 [-28  68  32 106 128]이고, 오차는 27.6\n",
            "w1=23,w2=-8 일때 예측값은 [-26  74  36 113 136]이고, 오차는 30.6\n",
            "w1=24,w2=-8 일때 예측값은 [-24  80  40 120 144]이고, 오차는 33.6\n",
            "w1=25,w2=-8 일때 예측값은 [-22  86  44 127 152]이고, 오차는 36.6\n",
            "w1=26,w2=-8 일때 예측값은 [-20  92  48 134 160]이고, 오차는 39.6\n",
            "w1=27,w2=-8 일때 예측값은 [-18  98  52 141 168]이고, 오차는 42.6\n",
            "w1=28,w2=-8 일때 예측값은 [-16 104  56 148 176]이고, 오차는 45.6\n",
            "w1=29,w2=-8 일때 예측값은 [-14 110  60 155 184]이고, 오차는 48.6\n",
            "w1=30,w2=-8 일때 예측값은 [-12 116  64 162 192]이고, 오차는 53.2\n",
            "w1=0,w2=-7 일때 예측값은 [-63 -56 -49 -42 -42]이고, 오차는 114.4\n",
            "w1=1,w2=-7 일때 예측값은 [-61 -50 -45 -35 -34]이고, 오차는 109.0\n",
            "w1=2,w2=-7 일때 예측값은 [-59 -44 -41 -28 -26]이고, 오차는 103.6\n",
            "w1=3,w2=-7 일때 예측값은 [-57 -38 -37 -21 -18]이고, 오차는 98.2\n",
            "w1=4,w2=-7 일때 예측값은 [-55 -32 -33 -14 -10]이고, 오차는 92.8\n",
            "w1=5,w2=-7 일때 예측값은 [-53 -26 -29  -7  -2]이고, 오차는 87.4\n",
            "w1=6,w2=-7 일때 예측값은 [-51 -20 -25   0   6]이고, 오차는 82.0\n",
            "w1=7,w2=-7 일때 예측값은 [-49 -14 -21   7  14]이고, 오차는 76.6\n",
            "w1=8,w2=-7 일때 예측값은 [-47  -8 -17  14  22]이고, 오차는 71.2\n",
            "w1=9,w2=-7 일때 예측값은 [-45  -2 -13  21  30]이고, 오차는 65.8\n",
            "w1=10,w2=-7 일때 예측값은 [-43   4  -9  28  38]이고, 오차는 60.4\n",
            "w1=11,w2=-7 일때 예측값은 [-41  10  -5  35  46]이고, 오차는 55.0\n",
            "w1=12,w2=-7 일때 예측값은 [-39  16  -1  42  54]이고, 오차는 49.6\n",
            "w1=13,w2=-7 일때 예측값은 [-37  22   3  49  62]이고, 오차는 44.2\n",
            "w1=14,w2=-7 일때 예측값은 [-35  28   7  56  70]이고, 오차는 38.8\n",
            "w1=15,w2=-7 일때 예측값은 [-33  34  11  63  78]이고, 오차는 33.4\n",
            "w1=16,w2=-7 일때 예측값은 [-31  40  15  70  86]이고, 오차는 28.0\n",
            "w1=17,w2=-7 일때 예측값은 [-29  46  19  77  94]이고, 오차는 22.6\n",
            "w1=18,w2=-7 일때 예측값은 [-27  52  23  84 102]이고, 오차는 18.8\n",
            "w1=19,w2=-7 일때 예측값은 [-25  58  27  91 110]이고, 오차는 19.4\n",
            "w1=20,w2=-7 일때 예측값은 [-23  64  31  98 118]이고, 오차는 22.4\n",
            "w1=21,w2=-7 일때 예측값은 [-21  70  35 105 126]이고, 오차는 25.4\n",
            "w1=22,w2=-7 일때 예측값은 [-19  76  39 112 134]이고, 오차는 28.4\n",
            "w1=23,w2=-7 일때 예측값은 [-17  82  43 119 142]이고, 오차는 31.4\n",
            "w1=24,w2=-7 일때 예측값은 [-15  88  47 126 150]이고, 오차는 34.4\n",
            "w1=25,w2=-7 일때 예측값은 [-13  94  51 133 158]이고, 오차는 37.4\n",
            "w1=26,w2=-7 일때 예측값은 [-11 100  55 140 166]이고, 오차는 40.4\n",
            "w1=27,w2=-7 일때 예측값은 [ -9 106  59 147 174]이고, 오차는 43.4\n",
            "w1=28,w2=-7 일때 예측값은 [ -7 112  63 154 182]이고, 오차는 47.6\n",
            "w1=29,w2=-7 일때 예측값은 [ -5 118  67 161 190]이고, 오차는 52.2\n",
            "w1=30,w2=-7 일때 예측값은 [ -3 124  71 168 198]이고, 오차는 56.8\n",
            "w1=0,w2=-6 일때 예측값은 [-54 -48 -42 -36 -36]이고, 오차는 107.2\n",
            "w1=1,w2=-6 일때 예측값은 [-52 -42 -38 -29 -28]이고, 오차는 101.8\n",
            "w1=2,w2=-6 일때 예측값은 [-50 -36 -34 -22 -20]이고, 오차는 96.4\n",
            "w1=3,w2=-6 일때 예측값은 [-48 -30 -30 -15 -12]이고, 오차는 91.0\n",
            "w1=4,w2=-6 일때 예측값은 [-46 -24 -26  -8  -4]이고, 오차는 85.6\n",
            "w1=5,w2=-6 일때 예측값은 [-44 -18 -22  -1   4]이고, 오차는 80.2\n",
            "w1=6,w2=-6 일때 예측값은 [-42 -12 -18   6  12]이고, 오차는 74.8\n",
            "w1=7,w2=-6 일때 예측값은 [-40  -6 -14  13  20]이고, 오차는 69.4\n",
            "w1=8,w2=-6 일때 예측값은 [-38   0 -10  20  28]이고, 오차는 64.0\n",
            "w1=9,w2=-6 일때 예측값은 [-36   6  -6  27  36]이고, 오차는 58.6\n",
            "w1=10,w2=-6 일때 예측값은 [-34  12  -2  34  44]이고, 오차는 53.2\n",
            "w1=11,w2=-6 일때 예측값은 [-32  18   2  41  52]이고, 오차는 47.8\n",
            "w1=12,w2=-6 일때 예측값은 [-30  24   6  48  60]이고, 오차는 42.4\n",
            "w1=13,w2=-6 일때 예측값은 [-28  30  10  55  68]이고, 오차는 37.0\n",
            "w1=14,w2=-6 일때 예측값은 [-26  36  14  62  76]이고, 오차는 31.6\n",
            "w1=15,w2=-6 일때 예측값은 [-24  42  18  69  84]이고, 오차는 26.2\n",
            "w1=16,w2=-6 일때 예측값은 [-22  48  22  76  92]이고, 오차는 20.8\n",
            "w1=17,w2=-6 일때 예측값은 [-20  54  26  83 100]이고, 오차는 17.0\n",
            "w1=18,w2=-6 일때 예측값은 [-18  60  30  90 108]이고, 오차는 17.2\n",
            "w1=19,w2=-6 일때 예측값은 [-16  66  34  97 116]이고, 오차는 20.2\n",
            "w1=20,w2=-6 일때 예측값은 [-14  72  38 104 124]이고, 오차는 23.2\n",
            "w1=21,w2=-6 일때 예측값은 [-12  78  42 111 132]이고, 오차는 26.2\n",
            "w1=22,w2=-6 일때 예측값은 [-10  84  46 118 140]이고, 오차는 29.2\n",
            "w1=23,w2=-6 일때 예측값은 [ -8  90  50 125 148]이고, 오차는 32.2\n",
            "w1=24,w2=-6 일때 예측값은 [ -6  96  54 132 156]이고, 오차는 35.2\n",
            "w1=25,w2=-6 일때 예측값은 [ -4 102  58 139 164]이고, 오차는 38.2\n",
            "w1=26,w2=-6 일때 예측값은 [ -2 108  62 146 172]이고, 오차는 42.0\n",
            "w1=27,w2=-6 일때 예측값은 [  0 114  66 153 180]이고, 오차는 46.6\n",
            "w1=28,w2=-6 일때 예측값은 [  2 120  70 160 188]이고, 오차는 51.2\n",
            "w1=29,w2=-6 일때 예측값은 [  4 126  74 167 196]이고, 오차는 55.8\n",
            "w1=30,w2=-6 일때 예측값은 [  6 132  78 174 204]이고, 오차는 60.4\n",
            "w1=0,w2=-5 일때 예측값은 [-45 -40 -35 -30 -30]이고, 오차는 100.0\n",
            "w1=1,w2=-5 일때 예측값은 [-43 -34 -31 -23 -22]이고, 오차는 94.6\n",
            "w1=2,w2=-5 일때 예측값은 [-41 -28 -27 -16 -14]이고, 오차는 89.2\n",
            "w1=3,w2=-5 일때 예측값은 [-39 -22 -23  -9  -6]이고, 오차는 83.8\n",
            "w1=4,w2=-5 일때 예측값은 [-37 -16 -19  -2   2]이고, 오차는 78.4\n",
            "w1=5,w2=-5 일때 예측값은 [-35 -10 -15   5  10]이고, 오차는 73.0\n",
            "w1=6,w2=-5 일때 예측값은 [-33  -4 -11  12  18]이고, 오차는 67.6\n",
            "w1=7,w2=-5 일때 예측값은 [-31   2  -7  19  26]이고, 오차는 62.2\n",
            "w1=8,w2=-5 일때 예측값은 [-29   8  -3  26  34]이고, 오차는 56.8\n",
            "w1=9,w2=-5 일때 예측값은 [-27  14   1  33  42]이고, 오차는 51.4\n",
            "w1=10,w2=-5 일때 예측값은 [-25  20   5  40  50]이고, 오차는 46.0\n",
            "w1=11,w2=-5 일때 예측값은 [-23  26   9  47  58]이고, 오차는 40.6\n",
            "w1=12,w2=-5 일때 예측값은 [-21  32  13  54  66]이고, 오차는 35.2\n",
            "w1=13,w2=-5 일때 예측값은 [-19  38  17  61  74]이고, 오차는 29.8\n",
            "w1=14,w2=-5 일때 예측값은 [-17  44  21  68  82]이고, 오차는 24.4\n",
            "w1=15,w2=-5 일때 예측값은 [-15  50  25  75  90]이고, 오차는 19.0\n",
            "w1=16,w2=-5 일때 예측값은 [-13  56  29  82  98]이고, 오차는 16.0\n",
            "w1=17,w2=-5 일때 예측값은 [-11  62  33  89 106]이고, 오차는 15.4\n",
            "w1=18,w2=-5 일때 예측값은 [ -9  68  37  96 114]이고, 오차는 18.0\n",
            "w1=19,w2=-5 일때 예측값은 [ -7  74  41 103 122]이고, 오차는 21.0\n",
            "w1=20,w2=-5 일때 예측값은 [ -5  80  45 110 130]이고, 오차는 24.0\n",
            "w1=21,w2=-5 일때 예측값은 [ -3  86  49 117 138]이고, 오차는 27.0\n",
            "w1=22,w2=-5 일때 예측값은 [ -1  92  53 124 146]이고, 오차는 30.0\n",
            "w1=23,w2=-5 일때 예측값은 [  1  98  57 131 154]이고, 오차는 33.0\n",
            "w1=24,w2=-5 일때 예측값은 [  3 104  61 138 162]이고, 오차는 36.4\n",
            "w1=25,w2=-5 일때 예측값은 [  5 110  65 145 170]이고, 오차는 41.0\n",
            "w1=26,w2=-5 일때 예측값은 [  7 116  69 152 178]이고, 오차는 45.6\n",
            "w1=27,w2=-5 일때 예측값은 [  9 122  73 159 186]이고, 오차는 50.2\n",
            "w1=28,w2=-5 일때 예측값은 [ 11 128  77 166 194]이고, 오차는 54.8\n",
            "w1=29,w2=-5 일때 예측값은 [ 13 134  81 173 202]이고, 오차는 59.4\n",
            "w1=30,w2=-5 일때 예측값은 [ 15 140  85 180 210]이고, 오차는 64.0\n",
            "w1=0,w2=-4 일때 예측값은 [-36 -32 -28 -24 -24]이고, 오차는 92.8\n",
            "w1=1,w2=-4 일때 예측값은 [-34 -26 -24 -17 -16]이고, 오차는 87.4\n",
            "w1=2,w2=-4 일때 예측값은 [-32 -20 -20 -10  -8]이고, 오차는 82.0\n",
            "w1=3,w2=-4 일때 예측값은 [-30 -14 -16  -3   0]이고, 오차는 76.6\n",
            "w1=4,w2=-4 일때 예측값은 [-28  -8 -12   4   8]이고, 오차는 71.2\n",
            "w1=5,w2=-4 일때 예측값은 [-26  -2  -8  11  16]이고, 오차는 65.8\n",
            "w1=6,w2=-4 일때 예측값은 [-24   4  -4  18  24]이고, 오차는 60.4\n",
            "w1=7,w2=-4 일때 예측값은 [-22  10   0  25  32]이고, 오차는 55.0\n",
            "w1=8,w2=-4 일때 예측값은 [-20  16   4  32  40]이고, 오차는 49.6\n",
            "w1=9,w2=-4 일때 예측값은 [-18  22   8  39  48]이고, 오차는 44.2\n",
            "w1=10,w2=-4 일때 예측값은 [-16  28  12  46  56]이고, 오차는 38.8\n",
            "w1=11,w2=-4 일때 예측값은 [-14  34  16  53  64]이고, 오차는 33.4\n",
            "w1=12,w2=-4 일때 예측값은 [-12  40  20  60  72]이고, 오차는 28.0\n",
            "w1=13,w2=-4 일때 예측값은 [-10  46  24  67  80]이고, 오차는 22.6\n",
            "w1=14,w2=-4 일때 예측값은 [-8 52 28 74 88]이고, 오차는 18.0\n",
            "w1=15,w2=-4 일때 예측값은 [-6 58 32 81 96]이고, 오차는 15.0\n",
            "w1=16,w2=-4 일때 예측값은 [ -4  64  36  88 104]이고, 오차는 13.6\n",
            "w1=17,w2=-4 일때 예측값은 [ -2  70  40  95 112]이고, 오차는 15.8\n",
            "w1=18,w2=-4 일때 예측값은 [  0  76  44 102 120]이고, 오차는 18.8\n",
            "w1=19,w2=-4 일때 예측값은 [  2  82  48 109 128]이고, 오차는 21.8\n",
            "w1=20,w2=-4 일때 예측값은 [  4  88  52 116 136]이고, 오차는 24.8\n",
            "w1=21,w2=-4 일때 예측값은 [  6  94  56 123 144]이고, 오차는 27.8\n",
            "w1=22,w2=-4 일때 예측값은 [  8 100  60 130 152]이고, 오차는 30.8\n",
            "w1=23,w2=-4 일때 예측값은 [ 10 106  64 137 160]이고, 오차는 35.4\n",
            "w1=24,w2=-4 일때 예측값은 [ 12 112  68 144 168]이고, 오차는 40.0\n",
            "w1=25,w2=-4 일때 예측값은 [ 14 118  72 151 176]이고, 오차는 44.6\n",
            "w1=26,w2=-4 일때 예측값은 [ 16 124  76 158 184]이고, 오차는 49.2\n",
            "w1=27,w2=-4 일때 예측값은 [ 18 130  80 165 192]이고, 오차는 53.8\n",
            "w1=28,w2=-4 일때 예측값은 [ 20 136  84 172 200]이고, 오차는 58.4\n",
            "w1=29,w2=-4 일때 예측값은 [ 22 142  88 179 208]이고, 오차는 63.8\n",
            "w1=30,w2=-4 일때 예측값은 [ 24 148  92 186 216]이고, 오차는 69.2\n",
            "w1=0,w2=-3 일때 예측값은 [-27 -24 -21 -18 -18]이고, 오차는 85.6\n",
            "w1=1,w2=-3 일때 예측값은 [-25 -18 -17 -11 -10]이고, 오차는 80.2\n",
            "w1=2,w2=-3 일때 예측값은 [-23 -12 -13  -4  -2]이고, 오차는 74.8\n",
            "w1=3,w2=-3 일때 예측값은 [-21  -6  -9   3   6]이고, 오차는 69.4\n",
            "w1=4,w2=-3 일때 예측값은 [-19   0  -5  10  14]이고, 오차는 64.0\n",
            "w1=5,w2=-3 일때 예측값은 [-17   6  -1  17  22]이고, 오차는 58.6\n",
            "w1=6,w2=-3 일때 예측값은 [-15  12   3  24  30]이고, 오차는 53.2\n",
            "w1=7,w2=-3 일때 예측값은 [-13  18   7  31  38]이고, 오차는 47.8\n",
            "w1=8,w2=-3 일때 예측값은 [-11  24  11  38  46]이고, 오차는 42.4\n",
            "w1=9,w2=-3 일때 예측값은 [-9 30 15 45 54]이고, 오차는 37.0\n",
            "w1=10,w2=-3 일때 예측값은 [-7 36 19 52 62]이고, 오차는 31.6\n",
            "w1=11,w2=-3 일때 예측값은 [-5 42 23 59 70]이고, 오차는 26.2\n",
            "w1=12,w2=-3 일때 예측값은 [-3 48 27 66 78]이고, 오차는 20.8\n",
            "w1=13,w2=-3 일때 예측값은 [-1 54 31 73 86]이고, 오차는 17.0\n",
            "w1=14,w2=-3 일때 예측값은 [ 1 60 35 80 94]이고, 오차는 14.0\n",
            "w1=15,w2=-3 일때 예측값은 [  3  66  39  87 102]이고, 오차는 11.8\n",
            "w1=16,w2=-3 일때 예측값은 [  5  72  43  94 110]이고, 오차는 13.6\n",
            "w1=17,w2=-3 일때 예측값은 [  7  78  47 101 118]이고, 오차는 16.6\n",
            "w1=18,w2=-3 일때 예측값은 [  9  84  51 108 126]이고, 오차는 19.6\n",
            "w1=19,w2=-3 일때 예측값은 [ 11  90  55 115 134]이고, 오차는 22.6\n",
            "w1=20,w2=-3 일때 예측값은 [ 13  96  59 122 142]이고, 오차는 25.6\n",
            "w1=21,w2=-3 일때 예측값은 [ 15 102  63 129 150]이고, 오차는 29.8\n",
            "w1=22,w2=-3 일때 예측값은 [ 17 108  67 136 158]이고, 오차는 34.4\n",
            "w1=23,w2=-3 일때 예측값은 [ 19 114  71 143 166]이고, 오차는 39.0\n",
            "w1=24,w2=-3 일때 예측값은 [ 21 120  75 150 174]이고, 오차는 44.0\n",
            "w1=25,w2=-3 일때 예측값은 [ 23 126  79 157 182]이고, 오차는 49.4\n",
            "w1=26,w2=-3 일때 예측값은 [ 25 132  83 164 190]이고, 오차는 54.8\n",
            "w1=27,w2=-3 일때 예측값은 [ 27 138  87 171 198]이고, 오차는 60.2\n",
            "w1=28,w2=-3 일때 예측값은 [ 29 144  91 178 206]이고, 오차는 65.6\n",
            "w1=29,w2=-3 일때 예측값은 [ 31 150  95 185 214]이고, 오차는 71.0\n",
            "w1=30,w2=-3 일때 예측값은 [ 33 156  99 192 222]이고, 오차는 76.4\n",
            "w1=0,w2=-2 일때 예측값은 [-18 -16 -14 -12 -12]이고, 오차는 78.4\n",
            "w1=1,w2=-2 일때 예측값은 [-16 -10 -10  -5  -4]이고, 오차는 73.0\n",
            "w1=2,w2=-2 일때 예측값은 [-14  -4  -6   2   4]이고, 오차는 67.6\n",
            "w1=3,w2=-2 일때 예측값은 [-12   2  -2   9  12]이고, 오차는 62.2\n",
            "w1=4,w2=-2 일때 예측값은 [-10   8   2  16  20]이고, 오차는 56.8\n",
            "w1=5,w2=-2 일때 예측값은 [-8 14  6 23 28]이고, 오차는 51.4\n",
            "w1=6,w2=-2 일때 예측값은 [-6 20 10 30 36]이고, 오차는 46.0\n",
            "w1=7,w2=-2 일때 예측값은 [-4 26 14 37 44]이고, 오차는 40.6\n",
            "w1=8,w2=-2 일때 예측값은 [-2 32 18 44 52]이고, 오차는 35.2\n",
            "w1=9,w2=-2 일때 예측값은 [ 0 38 22 51 60]이고, 오차는 29.8\n",
            "w1=10,w2=-2 일때 예측값은 [ 2 44 26 58 68]이고, 오차는 24.4\n",
            "w1=11,w2=-2 일때 예측값은 [ 4 50 30 65 76]이고, 오차는 19.0\n",
            "w1=12,w2=-2 일때 예측값은 [ 6 56 34 72 84]이고, 오차는 16.0\n",
            "w1=13,w2=-2 일때 예측값은 [ 8 62 38 79 92]이고, 오차는 13.0\n",
            "w1=14,w2=-2 일때 예측값은 [ 10  68  42  86 100]이고, 오차는 10.0\n",
            "w1=15,w2=-2 일때 예측값은 [ 12  74  46  93 108]이고, 오차는 11.4\n",
            "w1=16,w2=-2 일때 예측값은 [ 14  80  50 100 116]이고, 오차는 14.4\n",
            "w1=17,w2=-2 일때 예측값은 [ 16  86  54 107 124]이고, 오차는 17.4\n",
            "w1=18,w2=-2 일때 예측값은 [ 18  92  58 114 132]이고, 오차는 20.4\n",
            "w1=19,w2=-2 일때 예측값은 [ 20  98  62 121 140]이고, 오차는 24.2\n",
            "w1=20,w2=-2 일때 예측값은 [ 22 104  66 128 148]이고, 오차는 29.6\n",
            "w1=21,w2=-2 일때 예측값은 [ 24 110  70 135 156]이고, 오차는 35.0\n",
            "w1=22,w2=-2 일때 예측값은 [ 26 116  74 142 164]이고, 오차는 40.4\n",
            "w1=23,w2=-2 일때 예측값은 [ 28 122  78 149 172]이고, 오차는 45.8\n",
            "w1=24,w2=-2 일때 예측값은 [ 30 128  82 156 180]이고, 오차는 51.2\n",
            "w1=25,w2=-2 일때 예측값은 [ 32 134  86 163 188]이고, 오차는 56.6\n",
            "w1=26,w2=-2 일때 예측값은 [ 34 140  90 170 196]이고, 오차는 62.0\n",
            "w1=27,w2=-2 일때 예측값은 [ 36 146  94 177 204]이고, 오차는 67.4\n",
            "w1=28,w2=-2 일때 예측값은 [ 38 152  98 184 212]이고, 오차는 72.8\n",
            "w1=29,w2=-2 일때 예측값은 [ 40 158 102 191 220]이고, 오차는 78.2\n",
            "w1=30,w2=-2 일때 예측값은 [ 42 164 106 198 228]이고, 오차는 83.6\n",
            "w1=0,w2=-1 일때 예측값은 [-9 -8 -7 -6 -6]이고, 오차는 71.2\n",
            "w1=1,w2=-1 일때 예측값은 [-7 -2 -3  1  2]이고, 오차는 65.8\n",
            "w1=2,w2=-1 일때 예측값은 [-5  4  1  8 10]이고, 오차는 60.4\n",
            "w1=3,w2=-1 일때 예측값은 [-3 10  5 15 18]이고, 오차는 55.0\n",
            "w1=4,w2=-1 일때 예측값은 [-1 16  9 22 26]이고, 오차는 49.6\n",
            "w1=5,w2=-1 일때 예측값은 [ 1 22 13 29 34]이고, 오차는 44.2\n",
            "w1=6,w2=-1 일때 예측값은 [ 3 28 17 36 42]이고, 오차는 38.8\n",
            "w1=7,w2=-1 일때 예측값은 [ 5 34 21 43 50]이고, 오차는 33.4\n",
            "w1=8,w2=-1 일때 예측값은 [ 7 40 25 50 58]이고, 오차는 28.0\n",
            "w1=9,w2=-1 일때 예측값은 [ 9 46 29 57 66]이고, 오차는 22.6\n",
            "w1=10,w2=-1 일때 예측값은 [11 52 33 64 74]이고, 오차는 18.0\n",
            "w1=11,w2=-1 일때 예측값은 [13 58 37 71 82]이고, 오차는 15.0\n",
            "w1=12,w2=-1 일때 예측값은 [15 64 41 78 90]이고, 오차는 12.0\n",
            "w1=13,w2=-1 일때 예측값은 [17 70 45 85 98]이고, 오차는 9.0\n",
            "w1=14,w2=-1 일때 예측값은 [ 19  76  49  92 106]이고, 오차는 9.2\n",
            "w1=15,w2=-1 일때 예측값은 [ 21  82  53  99 114]이고, 오차는 12.6\n",
            "w1=16,w2=-1 일때 예측값은 [ 23  88  57 106 122]이고, 오차는 16.4\n",
            "w1=17,w2=-1 일때 예측값은 [ 25  94  61 113 130]이고, 오차는 20.6\n",
            "w1=18,w2=-1 일때 예측값은 [ 27 100  65 120 138]이고, 오차는 26.0\n",
            "w1=19,w2=-1 일때 예측값은 [ 29 106  69 127 146]이고, 오차는 31.4\n",
            "w1=20,w2=-1 일때 예측값은 [ 31 112  73 134 154]이고, 오차는 36.8\n",
            "w1=21,w2=-1 일때 예측값은 [ 33 118  77 141 162]이고, 오차는 42.2\n",
            "w1=22,w2=-1 일때 예측값은 [ 35 124  81 148 170]이고, 오차는 47.6\n",
            "w1=23,w2=-1 일때 예측값은 [ 37 130  85 155 178]이고, 오차는 53.0\n",
            "w1=24,w2=-1 일때 예측값은 [ 39 136  89 162 186]이고, 오차는 58.4\n",
            "w1=25,w2=-1 일때 예측값은 [ 41 142  93 169 194]이고, 오차는 63.8\n",
            "w1=26,w2=-1 일때 예측값은 [ 43 148  97 176 202]이고, 오차는 69.2\n",
            "w1=27,w2=-1 일때 예측값은 [ 45 154 101 183 210]이고, 오차는 74.6\n",
            "w1=28,w2=-1 일때 예측값은 [ 47 160 105 190 218]이고, 오차는 80.0\n",
            "w1=29,w2=-1 일때 예측값은 [ 49 166 109 197 226]이고, 오차는 85.4\n",
            "w1=30,w2=-1 일때 예측값은 [ 51 172 113 204 234]이고, 오차는 90.8\n",
            "w1=0,w2=0 일때 예측값은 [0 0 0 0 0]이고, 오차는 64.0\n",
            "w1=1,w2=0 일때 예측값은 [2 6 4 7 8]이고, 오차는 58.6\n",
            "w1=2,w2=0 일때 예측값은 [ 4 12  8 14 16]이고, 오차는 53.2\n",
            "w1=3,w2=0 일때 예측값은 [ 6 18 12 21 24]이고, 오차는 47.8\n",
            "w1=4,w2=0 일때 예측값은 [ 8 24 16 28 32]이고, 오차는 42.4\n",
            "w1=5,w2=0 일때 예측값은 [10 30 20 35 40]이고, 오차는 37.0\n",
            "w1=6,w2=0 일때 예측값은 [12 36 24 42 48]이고, 오차는 31.6\n",
            "w1=7,w2=0 일때 예측값은 [14 42 28 49 56]이고, 오차는 26.2\n",
            "w1=8,w2=0 일때 예측값은 [16 48 32 56 64]이고, 오차는 20.8\n",
            "w1=9,w2=0 일때 예측값은 [18 54 36 63 72]이고, 오차는 17.0\n",
            "w1=10,w2=0 일때 예측값은 [20 60 40 70 80]이고, 오차는 14.0\n",
            "w1=11,w2=0 일때 예측값은 [22 66 44 77 88]이고, 오차는 11.8\n",
            "w1=12,w2=0 일때 예측값은 [24 72 48 84 96]이고, 오차는 9.6\n",
            "w1=13,w2=0 일때 예측값은 [ 26  78  52  91 104]이고, 오차는 9.4\n",
            "w1=14,w2=0 일때 예측값은 [ 28  84  56  98 112]이고, 오차는 13.2\n",
            "w1=15,w2=0 일때 예측값은 [ 30  90  60 105 120]이고, 오차는 17.0\n",
            "w1=16,w2=0 일때 예측값은 [ 32  96  64 112 128]이고, 오차는 22.4\n",
            "w1=17,w2=0 일때 예측값은 [ 34 102  68 119 136]이고, 오차는 27.8\n",
            "w1=18,w2=0 일때 예측값은 [ 36 108  72 126 144]이고, 오차는 33.2\n",
            "w1=19,w2=0 일때 예측값은 [ 38 114  76 133 152]이고, 오차는 38.6\n",
            "w1=20,w2=0 일때 예측값은 [ 40 120  80 140 160]이고, 오차는 44.0\n",
            "w1=21,w2=0 일때 예측값은 [ 42 126  84 147 168]이고, 오차는 49.4\n",
            "w1=22,w2=0 일때 예측값은 [ 44 132  88 154 176]이고, 오차는 54.8\n",
            "w1=23,w2=0 일때 예측값은 [ 46 138  92 161 184]이고, 오차는 60.2\n",
            "w1=24,w2=0 일때 예측값은 [ 48 144  96 168 192]이고, 오차는 65.6\n",
            "w1=25,w2=0 일때 예측값은 [ 50 150 100 175 200]이고, 오차는 71.0\n",
            "w1=26,w2=0 일때 예측값은 [ 52 156 104 182 208]이고, 오차는 76.4\n",
            "w1=27,w2=0 일때 예측값은 [ 54 162 108 189 216]이고, 오차는 81.8\n",
            "w1=28,w2=0 일때 예측값은 [ 56 168 112 196 224]이고, 오차는 87.2\n",
            "w1=29,w2=0 일때 예측값은 [ 58 174 116 203 232]이고, 오차는 92.6\n",
            "w1=30,w2=0 일때 예측값은 [ 60 180 120 210 240]이고, 오차는 98.0\n",
            "w1=0,w2=1 일때 예측값은 [9 8 7 6 6]이고, 오차는 56.8\n",
            "w1=1,w2=1 일때 예측값은 [11 14 11 13 14]이고, 오차는 51.4\n",
            "w1=2,w2=1 일때 예측값은 [13 20 15 20 22]이고, 오차는 46.0\n",
            "w1=3,w2=1 일때 예측값은 [15 26 19 27 30]이고, 오차는 40.6\n",
            "w1=4,w2=1 일때 예측값은 [17 32 23 34 38]이고, 오차는 35.2\n",
            "w1=5,w2=1 일때 예측값은 [19 38 27 41 46]이고, 오차는 29.8\n",
            "w1=6,w2=1 일때 예측값은 [21 44 31 48 54]이고, 오차는 24.8\n",
            "w1=7,w2=1 일때 예측값은 [23 50 35 55 62]이고, 오차는 20.2\n",
            "w1=8,w2=1 일때 예측값은 [25 56 39 62 70]이고, 오차는 18.0\n",
            "w1=9,w2=1 일때 예측값은 [27 62 43 69 78]이고, 오차는 15.8\n",
            "w1=10,w2=1 일때 예측값은 [29 68 47 76 86]이고, 오차는 13.6\n",
            "w1=11,w2=1 일때 예측값은 [31 74 51 83 94]이고, 오차는 11.4\n",
            "w1=12,w2=1 일때 예측값은 [ 33  80  55  90 102]이고, 오차는 10.0\n",
            "w1=13,w2=1 일때 예측값은 [ 35  86  59  97 110]이고, 오차는 13.8\n",
            "w1=14,w2=1 일때 예측값은 [ 37  92  63 104 118]이고, 오차는 18.8\n",
            "w1=15,w2=1 일때 예측값은 [ 39  98  67 111 126]이고, 오차는 24.2\n",
            "w1=16,w2=1 일때 예측값은 [ 41 104  71 118 134]이고, 오차는 29.6\n",
            "w1=17,w2=1 일때 예측값은 [ 43 110  75 125 142]이고, 오차는 35.0\n",
            "w1=18,w2=1 일때 예측값은 [ 45 116  79 132 150]이고, 오차는 40.4\n",
            "w1=19,w2=1 일때 예측값은 [ 47 122  83 139 158]이고, 오차는 45.8\n",
            "w1=20,w2=1 일때 예측값은 [ 49 128  87 146 166]이고, 오차는 51.2\n",
            "w1=21,w2=1 일때 예측값은 [ 51 134  91 153 174]이고, 오차는 56.6\n",
            "w1=22,w2=1 일때 예측값은 [ 53 140  95 160 182]이고, 오차는 62.0\n",
            "w1=23,w2=1 일때 예측값은 [ 55 146  99 167 190]이고, 오차는 67.4\n",
            "w1=24,w2=1 일때 예측값은 [ 57 152 103 174 198]이고, 오차는 72.8\n",
            "w1=25,w2=1 일때 예측값은 [ 59 158 107 181 206]이고, 오차는 78.2\n",
            "w1=26,w2=1 일때 예측값은 [ 61 164 111 188 214]이고, 오차는 83.6\n",
            "w1=27,w2=1 일때 예측값은 [ 63 170 115 195 222]이고, 오차는 89.0\n",
            "w1=28,w2=1 일때 예측값은 [ 65 176 119 202 230]이고, 오차는 94.4\n",
            "w1=29,w2=1 일때 예측값은 [ 67 182 123 209 238]이고, 오차는 99.8\n",
            "w1=30,w2=1 일때 예측값은 [ 69 188 127 216 246]이고, 오차는 105.2\n",
            "w1=0,w2=2 일때 예측값은 [18 16 14 12 12]이고, 오차는 49.6\n",
            "w1=1,w2=2 일때 예측값은 [20 22 18 19 20]이고, 오차는 44.2\n",
            "w1=2,w2=2 일때 예측값은 [22 28 22 26 28]이고, 오차는 39.6\n",
            "w1=3,w2=2 일때 예측값은 [24 34 26 33 36]이고, 오차는 35.0\n",
            "w1=4,w2=2 일때 예측값은 [26 40 30 40 44]이고, 오차는 30.4\n",
            "w1=5,w2=2 일때 예측값은 [28 46 34 47 52]이고, 오차는 25.8\n",
            "w1=6,w2=2 일때 예측값은 [30 52 38 54 60]이고, 오차는 22.0\n",
            "w1=7,w2=2 일때 예측값은 [32 58 42 61 68]이고, 오차는 19.8\n",
            "w1=8,w2=2 일때 예측값은 [34 64 46 68 76]이고, 오차는 17.6\n",
            "w1=9,w2=2 일때 예측값은 [36 70 50 75 84]이고, 오차는 15.4\n",
            "w1=10,w2=2 일때 예측값은 [38 76 54 82 92]이고, 오차는 13.2\n",
            "w1=11,w2=2 일때 예측값은 [ 40  82  58  89 100]이고, 오차는 11.0\n",
            "w1=12,w2=2 일때 예측값은 [ 42  88  62  96 108]이고, 오차는 15.2\n",
            "w1=13,w2=2 일때 예측값은 [ 44  94  66 103 116]이고, 오차는 20.6\n",
            "w1=14,w2=2 일때 예측값은 [ 46 100  70 110 124]이고, 오차는 26.0\n",
            "w1=15,w2=2 일때 예측값은 [ 48 106  74 117 132]이고, 오차는 31.4\n",
            "w1=16,w2=2 일때 예측값은 [ 50 112  78 124 140]이고, 오차는 36.8\n",
            "w1=17,w2=2 일때 예측값은 [ 52 118  82 131 148]이고, 오차는 42.2\n",
            "w1=18,w2=2 일때 예측값은 [ 54 124  86 138 156]이고, 오차는 47.6\n",
            "w1=19,w2=2 일때 예측값은 [ 56 130  90 145 164]이고, 오차는 53.0\n",
            "w1=20,w2=2 일때 예측값은 [ 58 136  94 152 172]이고, 오차는 58.4\n",
            "w1=21,w2=2 일때 예측값은 [ 60 142  98 159 180]이고, 오차는 63.8\n",
            "w1=22,w2=2 일때 예측값은 [ 62 148 102 166 188]이고, 오차는 69.2\n",
            "w1=23,w2=2 일때 예측값은 [ 64 154 106 173 196]이고, 오차는 74.6\n",
            "w1=24,w2=2 일때 예측값은 [ 66 160 110 180 204]이고, 오차는 80.0\n",
            "w1=25,w2=2 일때 예측값은 [ 68 166 114 187 212]이고, 오차는 85.4\n",
            "w1=26,w2=2 일때 예측값은 [ 70 172 118 194 220]이고, 오차는 90.8\n",
            "w1=27,w2=2 일때 예측값은 [ 72 178 122 201 228]이고, 오차는 96.2\n",
            "w1=28,w2=2 일때 예측값은 [ 74 184 126 208 236]이고, 오차는 101.6\n",
            "w1=29,w2=2 일때 예측값은 [ 76 190 130 215 244]이고, 오차는 107.0\n",
            "w1=30,w2=2 일때 예측값은 [ 78 196 134 222 252]이고, 오차는 112.4\n",
            "w1=0,w2=3 일때 예측값은 [27 24 21 18 18]이고, 오차는 45.2\n",
            "w1=1,w2=3 일때 예측값은 [29 30 25 25 26]이고, 오차는 40.6\n",
            "w1=2,w2=3 일때 예측값은 [31 36 29 32 34]이고, 오차는 36.0\n",
            "w1=3,w2=3 일때 예측값은 [33 42 33 39 42]이고, 오차는 31.4\n",
            "w1=4,w2=3 일때 예측값은 [35 48 37 46 50]이고, 오차는 26.8\n",
            "w1=5,w2=3 일때 예측값은 [37 54 41 53 58]이고, 오차는 23.8\n",
            "w1=6,w2=3 일때 예측값은 [39 60 45 60 66]이고, 오차는 21.6\n",
            "w1=7,w2=3 일때 예측값은 [41 66 49 67 74]이고, 오차는 19.4\n",
            "w1=8,w2=3 일때 예측값은 [43 72 53 74 82]이고, 오차는 17.2\n",
            "w1=9,w2=3 일때 예측값은 [45 78 57 81 90]이고, 오차는 15.0\n",
            "w1=10,w2=3 일때 예측값은 [47 84 61 88 98]이고, 오차는 13.2\n",
            "w1=11,w2=3 일때 예측값은 [ 49  90  65  95 106]이고, 오차는 17.0\n",
            "w1=12,w2=3 일때 예측값은 [ 51  96  69 102 114]이고, 오차는 22.4\n",
            "w1=13,w2=3 일때 예측값은 [ 53 102  73 109 122]이고, 오차는 27.8\n",
            "w1=14,w2=3 일때 예측값은 [ 55 108  77 116 130]이고, 오차는 33.2\n",
            "w1=15,w2=3 일때 예측값은 [ 57 114  81 123 138]이고, 오차는 38.6\n",
            "w1=16,w2=3 일때 예측값은 [ 59 120  85 130 146]이고, 오차는 44.0\n",
            "w1=17,w2=3 일때 예측값은 [ 61 126  89 137 154]이고, 오차는 49.4\n",
            "w1=18,w2=3 일때 예측값은 [ 63 132  93 144 162]이고, 오차는 54.8\n",
            "w1=19,w2=3 일때 예측값은 [ 65 138  97 151 170]이고, 오차는 60.2\n",
            "w1=20,w2=3 일때 예측값은 [ 67 144 101 158 178]이고, 오차는 65.6\n",
            "w1=21,w2=3 일때 예측값은 [ 69 150 105 165 186]이고, 오차는 71.0\n",
            "w1=22,w2=3 일때 예측값은 [ 71 156 109 172 194]이고, 오차는 76.4\n",
            "w1=23,w2=3 일때 예측값은 [ 73 162 113 179 202]이고, 오차는 81.8\n",
            "w1=24,w2=3 일때 예측값은 [ 75 168 117 186 210]이고, 오차는 87.2\n",
            "w1=25,w2=3 일때 예측값은 [ 77 174 121 193 218]이고, 오차는 92.6\n",
            "w1=26,w2=3 일때 예측값은 [ 79 180 125 200 226]이고, 오차는 98.0\n",
            "w1=27,w2=3 일때 예측값은 [ 81 186 129 207 234]이고, 오차는 103.4\n",
            "w1=28,w2=3 일때 예측값은 [ 83 192 133 214 242]이고, 오차는 108.8\n",
            "w1=29,w2=3 일때 예측값은 [ 85 198 137 221 250]이고, 오차는 114.2\n",
            "w1=30,w2=3 일때 예측값은 [ 87 204 141 228 258]이고, 오차는 119.6\n",
            "w1=0,w2=4 일때 예측값은 [36 32 28 24 24]이고, 오차는 41.6\n",
            "w1=1,w2=4 일때 예측값은 [38 38 32 31 32]이고, 오차는 37.0\n",
            "w1=2,w2=4 일때 예측값은 [40 44 36 38 40]이고, 오차는 32.4\n",
            "w1=3,w2=4 일때 예측값은 [42 50 40 45 48]이고, 오차는 27.8\n",
            "w1=4,w2=4 일때 예측값은 [44 56 44 52 56]이고, 오차는 25.6\n",
            "w1=5,w2=4 일때 예측값은 [46 62 48 59 64]이고, 오차는 23.4\n",
            "w1=6,w2=4 일때 예측값은 [48 68 52 66 72]이고, 오차는 21.2\n",
            "w1=7,w2=4 일때 예측값은 [50 74 56 73 80]이고, 오차는 19.0\n",
            "w1=8,w2=4 일때 예측값은 [52 80 60 80 88]이고, 오차는 16.8\n",
            "w1=9,w2=4 일때 예측값은 [54 86 64 87 96]이고, 오차는 16.2\n",
            "w1=10,w2=4 일때 예측값은 [ 56  92  68  94 104]이고, 오차는 18.8\n",
            "w1=11,w2=4 일때 예측값은 [ 58  98  72 101 112]이고, 오차는 24.2\n",
            "w1=12,w2=4 일때 예측값은 [ 60 104  76 108 120]이고, 오차는 29.6\n",
            "w1=13,w2=4 일때 예측값은 [ 62 110  80 115 128]이고, 오차는 35.0\n",
            "w1=14,w2=4 일때 예측값은 [ 64 116  84 122 136]이고, 오차는 40.4\n",
            "w1=15,w2=4 일때 예측값은 [ 66 122  88 129 144]이고, 오차는 45.8\n",
            "w1=16,w2=4 일때 예측값은 [ 68 128  92 136 152]이고, 오차는 51.2\n",
            "w1=17,w2=4 일때 예측값은 [ 70 134  96 143 160]이고, 오차는 56.6\n",
            "w1=18,w2=4 일때 예측값은 [ 72 140 100 150 168]이고, 오차는 62.0\n",
            "w1=19,w2=4 일때 예측값은 [ 74 146 104 157 176]이고, 오차는 67.4\n",
            "w1=20,w2=4 일때 예측값은 [ 76 152 108 164 184]이고, 오차는 72.8\n",
            "w1=21,w2=4 일때 예측값은 [ 78 158 112 171 192]이고, 오차는 78.2\n",
            "w1=22,w2=4 일때 예측값은 [ 80 164 116 178 200]이고, 오차는 83.6\n",
            "w1=23,w2=4 일때 예측값은 [ 82 170 120 185 208]이고, 오차는 89.0\n",
            "w1=24,w2=4 일때 예측값은 [ 84 176 124 192 216]이고, 오차는 94.4\n",
            "w1=25,w2=4 일때 예측값은 [ 86 182 128 199 224]이고, 오차는 99.8\n",
            "w1=26,w2=4 일때 예측값은 [ 88 188 132 206 232]이고, 오차는 105.2\n",
            "w1=27,w2=4 일때 예측값은 [ 90 194 136 213 240]이고, 오차는 110.6\n",
            "w1=28,w2=4 일때 예측값은 [ 92 200 140 220 248]이고, 오차는 116.0\n",
            "w1=29,w2=4 일때 예측값은 [ 94 206 144 227 256]이고, 오차는 121.4\n",
            "w1=30,w2=4 일때 예측값은 [ 96 212 148 234 264]이고, 오차는 126.8\n",
            "w1=0,w2=5 일때 예측값은 [45 40 35 30 30]이고, 오차는 38.0\n",
            "w1=1,w2=5 일때 예측값은 [47 46 39 37 38]이고, 오차는 33.4\n",
            "w1=2,w2=5 일때 예측값은 [49 52 43 44 46]이고, 오차는 29.6\n",
            "w1=3,w2=5 일때 예측값은 [51 58 47 51 54]이고, 오차는 27.4\n",
            "w1=4,w2=5 일때 예측값은 [53 64 51 58 62]이고, 오차는 25.2\n",
            "w1=5,w2=5 일때 예측값은 [55 70 55 65 70]이고, 오차는 23.0\n",
            "w1=6,w2=5 일때 예측값은 [57 76 59 72 78]이고, 오차는 20.8\n",
            "w1=7,w2=5 일때 예측값은 [59 82 63 79 86]이고, 오차는 19.8\n",
            "w1=8,w2=5 일때 예측값은 [61 88 67 86 94]이고, 오차는 19.2\n",
            "w1=9,w2=5 일때 예측값은 [ 63  94  71  93 102]이고, 오차는 20.6\n",
            "w1=10,w2=5 일때 예측값은 [ 65 100  75 100 110]이고, 오차는 26.0\n",
            "w1=11,w2=5 일때 예측값은 [ 67 106  79 107 118]이고, 오차는 31.4\n",
            "w1=12,w2=5 일때 예측값은 [ 69 112  83 114 126]이고, 오차는 36.8\n",
            "w1=13,w2=5 일때 예측값은 [ 71 118  87 121 134]이고, 오차는 42.2\n",
            "w1=14,w2=5 일때 예측값은 [ 73 124  91 128 142]이고, 오차는 47.6\n",
            "w1=15,w2=5 일때 예측값은 [ 75 130  95 135 150]이고, 오차는 53.0\n",
            "w1=16,w2=5 일때 예측값은 [ 77 136  99 142 158]이고, 오차는 58.4\n",
            "w1=17,w2=5 일때 예측값은 [ 79 142 103 149 166]이고, 오차는 63.8\n",
            "w1=18,w2=5 일때 예측값은 [ 81 148 107 156 174]이고, 오차는 69.2\n",
            "w1=19,w2=5 일때 예측값은 [ 83 154 111 163 182]이고, 오차는 74.6\n",
            "w1=20,w2=5 일때 예측값은 [ 85 160 115 170 190]이고, 오차는 80.0\n",
            "w1=21,w2=5 일때 예측값은 [ 87 166 119 177 198]이고, 오차는 85.4\n",
            "w1=22,w2=5 일때 예측값은 [ 89 172 123 184 206]이고, 오차는 90.8\n",
            "w1=23,w2=5 일때 예측값은 [ 91 178 127 191 214]이고, 오차는 96.2\n",
            "w1=24,w2=5 일때 예측값은 [ 93 184 131 198 222]이고, 오차는 101.6\n",
            "w1=25,w2=5 일때 예측값은 [ 95 190 135 205 230]이고, 오차는 107.0\n",
            "w1=26,w2=5 일때 예측값은 [ 97 196 139 212 238]이고, 오차는 112.4\n",
            "w1=27,w2=5 일때 예측값은 [ 99 202 143 219 246]이고, 오차는 117.8\n",
            "w1=28,w2=5 일때 예측값은 [101 208 147 226 254]이고, 오차는 123.2\n",
            "w1=29,w2=5 일때 예측값은 [103 214 151 233 262]이고, 오차는 128.6\n",
            "w1=30,w2=5 일때 예측값은 [105 220 155 240 270]이고, 오차는 134.0\n",
            "w1=0,w2=6 일때 예측값은 [54 48 42 36 36]이고, 오차는 34.4\n",
            "w1=1,w2=6 일때 예측값은 [56 54 46 43 44]이고, 오차는 31.4\n",
            "w1=2,w2=6 일때 예측값은 [58 60 50 50 52]이고, 오차는 29.2\n",
            "w1=3,w2=6 일때 예측값은 [60 66 54 57 60]이고, 오차는 27.0\n",
            "w1=4,w2=6 일때 예측값은 [62 72 58 64 68]이고, 오차는 24.8\n",
            "w1=5,w2=6 일때 예측값은 [64 78 62 71 76]이고, 오차는 23.4\n",
            "w1=6,w2=6 일때 예측값은 [66 84 66 78 84]이고, 오차는 22.8\n",
            "w1=7,w2=6 일때 예측값은 [68 90 70 85 92]이고, 오차는 22.2\n",
            "w1=8,w2=6 일때 예측값은 [ 70  96  74  92 100]이고, 오차는 22.4\n",
            "w1=9,w2=6 일때 예측값은 [ 72 102  78  99 108]이고, 오차는 27.8\n",
            "w1=10,w2=6 일때 예측값은 [ 74 108  82 106 116]이고, 오차는 33.2\n",
            "w1=11,w2=6 일때 예측값은 [ 76 114  86 113 124]이고, 오차는 38.6\n",
            "w1=12,w2=6 일때 예측값은 [ 78 120  90 120 132]이고, 오차는 44.0\n",
            "w1=13,w2=6 일때 예측값은 [ 80 126  94 127 140]이고, 오차는 49.4\n",
            "w1=14,w2=6 일때 예측값은 [ 82 132  98 134 148]이고, 오차는 54.8\n",
            "w1=15,w2=6 일때 예측값은 [ 84 138 102 141 156]이고, 오차는 60.2\n",
            "w1=16,w2=6 일때 예측값은 [ 86 144 106 148 164]이고, 오차는 65.6\n",
            "w1=17,w2=6 일때 예측값은 [ 88 150 110 155 172]이고, 오차는 71.0\n",
            "w1=18,w2=6 일때 예측값은 [ 90 156 114 162 180]이고, 오차는 76.4\n",
            "w1=19,w2=6 일때 예측값은 [ 92 162 118 169 188]이고, 오차는 81.8\n",
            "w1=20,w2=6 일때 예측값은 [ 94 168 122 176 196]이고, 오차는 87.2\n",
            "w1=21,w2=6 일때 예측값은 [ 96 174 126 183 204]이고, 오차는 92.6\n",
            "w1=22,w2=6 일때 예측값은 [ 98 180 130 190 212]이고, 오차는 98.0\n",
            "w1=23,w2=6 일때 예측값은 [100 186 134 197 220]이고, 오차는 103.4\n",
            "w1=24,w2=6 일때 예측값은 [102 192 138 204 228]이고, 오차는 108.8\n",
            "w1=25,w2=6 일때 예측값은 [104 198 142 211 236]이고, 오차는 114.2\n",
            "w1=26,w2=6 일때 예측값은 [106 204 146 218 244]이고, 오차는 119.6\n",
            "w1=27,w2=6 일때 예측값은 [108 210 150 225 252]이고, 오차는 125.0\n",
            "w1=28,w2=6 일때 예측값은 [110 216 154 232 260]이고, 오차는 130.4\n",
            "w1=29,w2=6 일때 예측값은 [112 222 158 239 268]이고, 오차는 135.8\n",
            "w1=30,w2=6 일때 예측값은 [114 228 162 246 276]이고, 오차는 141.2\n",
            "w1=0,w2=7 일때 예측값은 [63 56 49 42 42]이고, 오차는 33.2\n",
            "w1=1,w2=7 일때 예측값은 [65 62 53 49 50]이고, 오차는 31.0\n",
            "w1=2,w2=7 일때 예측값은 [67 68 57 56 58]이고, 오차는 28.8\n",
            "w1=3,w2=7 일때 예측값은 [69 74 61 63 66]이고, 오차는 27.0\n",
            "w1=4,w2=7 일때 예측값은 [71 80 65 70 74]이고, 오차는 26.4\n",
            "w1=5,w2=7 일때 예측값은 [73 86 69 77 82]이고, 오차는 25.8\n",
            "w1=6,w2=7 일때 예측값은 [75 92 73 84 90]이고, 오차는 25.2\n",
            "w1=7,w2=7 일때 예측값은 [77 98 77 91 98]이고, 오차는 25.0\n",
            "w1=8,w2=7 일때 예측값은 [ 79 104  81  98 106]이고, 오차는 29.6\n",
            "w1=9,w2=7 일때 예측값은 [ 81 110  85 105 114]이고, 오차는 35.0\n",
            "w1=10,w2=7 일때 예측값은 [ 83 116  89 112 122]이고, 오차는 40.4\n",
            "w1=11,w2=7 일때 예측값은 [ 85 122  93 119 130]이고, 오차는 45.8\n",
            "w1=12,w2=7 일때 예측값은 [ 87 128  97 126 138]이고, 오차는 51.2\n",
            "w1=13,w2=7 일때 예측값은 [ 89 134 101 133 146]이고, 오차는 56.6\n",
            "w1=14,w2=7 일때 예측값은 [ 91 140 105 140 154]이고, 오차는 62.0\n",
            "w1=15,w2=7 일때 예측값은 [ 93 146 109 147 162]이고, 오차는 67.4\n",
            "w1=16,w2=7 일때 예측값은 [ 95 152 113 154 170]이고, 오차는 72.8\n",
            "w1=17,w2=7 일때 예측값은 [ 97 158 117 161 178]이고, 오차는 78.2\n",
            "w1=18,w2=7 일때 예측값은 [ 99 164 121 168 186]이고, 오차는 83.6\n",
            "w1=19,w2=7 일때 예측값은 [101 170 125 175 194]이고, 오차는 89.0\n",
            "w1=20,w2=7 일때 예측값은 [103 176 129 182 202]이고, 오차는 94.4\n",
            "w1=21,w2=7 일때 예측값은 [105 182 133 189 210]이고, 오차는 99.8\n",
            "w1=22,w2=7 일때 예측값은 [107 188 137 196 218]이고, 오차는 105.2\n",
            "w1=23,w2=7 일때 예측값은 [109 194 141 203 226]이고, 오차는 110.6\n",
            "w1=24,w2=7 일때 예측값은 [111 200 145 210 234]이고, 오차는 116.0\n",
            "w1=25,w2=7 일때 예측값은 [113 206 149 217 242]이고, 오차는 121.4\n",
            "w1=26,w2=7 일때 예측값은 [115 212 153 224 250]이고, 오차는 126.8\n",
            "w1=27,w2=7 일때 예측값은 [117 218 157 231 258]이고, 오차는 132.2\n",
            "w1=28,w2=7 일때 예측값은 [119 224 161 238 266]이고, 오차는 137.6\n",
            "w1=29,w2=7 일때 예측값은 [121 230 165 245 274]이고, 오차는 143.0\n",
            "w1=30,w2=7 일때 예측값은 [123 236 169 252 282]이고, 오차는 148.4\n",
            "w1=0,w2=8 일때 예측값은 [72 64 56 48 48]이고, 오차는 32.8\n",
            "w1=1,w2=8 일때 예측값은 [74 70 60 55 56]이고, 오차는 30.6\n",
            "w1=2,w2=8 일때 예측값은 [76 76 64 62 64]이고, 오차는 30.0\n",
            "w1=3,w2=8 일때 예측값은 [78 82 68 69 72]이고, 오차는 29.4\n",
            "w1=4,w2=8 일때 예측값은 [80 88 72 76 80]이고, 오차는 28.8\n",
            "w1=5,w2=8 일때 예측값은 [82 94 76 83 88]이고, 오차는 28.2\n",
            "w1=6,w2=8 일때 예측값은 [ 84 100  80  90  96]이고, 오차는 27.6\n",
            "w1=7,w2=8 일때 예측값은 [ 86 106  84  97 104]이고, 오차는 31.4\n",
            "w1=8,w2=8 일때 예측값은 [ 88 112  88 104 112]이고, 오차는 36.8\n",
            "w1=9,w2=8 일때 예측값은 [ 90 118  92 111 120]이고, 오차는 42.2\n",
            "w1=10,w2=8 일때 예측값은 [ 92 124  96 118 128]이고, 오차는 47.6\n",
            "w1=11,w2=8 일때 예측값은 [ 94 130 100 125 136]이고, 오차는 53.0\n",
            "w1=12,w2=8 일때 예측값은 [ 96 136 104 132 144]이고, 오차는 58.4\n",
            "w1=13,w2=8 일때 예측값은 [ 98 142 108 139 152]이고, 오차는 63.8\n",
            "w1=14,w2=8 일때 예측값은 [100 148 112 146 160]이고, 오차는 69.2\n",
            "w1=15,w2=8 일때 예측값은 [102 154 116 153 168]이고, 오차는 74.6\n",
            "w1=16,w2=8 일때 예측값은 [104 160 120 160 176]이고, 오차는 80.0\n",
            "w1=17,w2=8 일때 예측값은 [106 166 124 167 184]이고, 오차는 85.4\n",
            "w1=18,w2=8 일때 예측값은 [108 172 128 174 192]이고, 오차는 90.8\n",
            "w1=19,w2=8 일때 예측값은 [110 178 132 181 200]이고, 오차는 96.2\n",
            "w1=20,w2=8 일때 예측값은 [112 184 136 188 208]이고, 오차는 101.6\n",
            "w1=21,w2=8 일때 예측값은 [114 190 140 195 216]이고, 오차는 107.0\n",
            "w1=22,w2=8 일때 예측값은 [116 196 144 202 224]이고, 오차는 112.4\n",
            "w1=23,w2=8 일때 예측값은 [118 202 148 209 232]이고, 오차는 117.8\n",
            "w1=24,w2=8 일때 예측값은 [120 208 152 216 240]이고, 오차는 123.2\n",
            "w1=25,w2=8 일때 예측값은 [122 214 156 223 248]이고, 오차는 128.6\n",
            "w1=26,w2=8 일때 예측값은 [124 220 160 230 256]이고, 오차는 134.0\n",
            "w1=27,w2=8 일때 예측값은 [126 226 164 237 264]이고, 오차는 139.4\n",
            "w1=28,w2=8 일때 예측값은 [128 232 168 244 272]이고, 오차는 144.8\n",
            "w1=29,w2=8 일때 예측값은 [130 238 172 251 280]이고, 오차는 150.2\n",
            "w1=30,w2=8 일때 예측값은 [132 244 176 258 288]이고, 오차는 155.6\n",
            "w1=0,w2=9 일때 예측값은 [81 72 63 54 54]이고, 오차는 33.6\n",
            "w1=1,w2=9 일때 예측값은 [83 78 67 61 62]이고, 오차는 33.0\n",
            "w1=2,w2=9 일때 예측값은 [85 84 71 68 70]이고, 오차는 32.4\n",
            "w1=3,w2=9 일때 예측값은 [87 90 75 75 78]이고, 오차는 31.8\n",
            "w1=4,w2=9 일때 예측값은 [89 96 79 82 86]이고, 오차는 31.2\n",
            "w1=5,w2=9 일때 예측값은 [ 91 102  83  89  94]이고, 오차는 30.6\n",
            "w1=6,w2=9 일때 예측값은 [ 93 108  87  96 102]이고, 오차는 33.2\n",
            "w1=7,w2=9 일때 예측값은 [ 95 114  91 103 110]이고, 오차는 38.6\n",
            "w1=8,w2=9 일때 예측값은 [ 97 120  95 110 118]이고, 오차는 44.0\n",
            "w1=9,w2=9 일때 예측값은 [ 99 126  99 117 126]이고, 오차는 49.4\n",
            "w1=10,w2=9 일때 예측값은 [101 132 103 124 134]이고, 오차는 54.8\n",
            "w1=11,w2=9 일때 예측값은 [103 138 107 131 142]이고, 오차는 60.2\n",
            "w1=12,w2=9 일때 예측값은 [105 144 111 138 150]이고, 오차는 65.6\n",
            "w1=13,w2=9 일때 예측값은 [107 150 115 145 158]이고, 오차는 71.0\n",
            "w1=14,w2=9 일때 예측값은 [109 156 119 152 166]이고, 오차는 76.4\n",
            "w1=15,w2=9 일때 예측값은 [111 162 123 159 174]이고, 오차는 81.8\n",
            "w1=16,w2=9 일때 예측값은 [113 168 127 166 182]이고, 오차는 87.2\n",
            "w1=17,w2=9 일때 예측값은 [115 174 131 173 190]이고, 오차는 92.6\n",
            "w1=18,w2=9 일때 예측값은 [117 180 135 180 198]이고, 오차는 98.0\n",
            "w1=19,w2=9 일때 예측값은 [119 186 139 187 206]이고, 오차는 103.4\n",
            "w1=20,w2=9 일때 예측값은 [121 192 143 194 214]이고, 오차는 108.8\n",
            "w1=21,w2=9 일때 예측값은 [123 198 147 201 222]이고, 오차는 114.2\n",
            "w1=22,w2=9 일때 예측값은 [125 204 151 208 230]이고, 오차는 119.6\n",
            "w1=23,w2=9 일때 예측값은 [127 210 155 215 238]이고, 오차는 125.0\n",
            "w1=24,w2=9 일때 예측값은 [129 216 159 222 246]이고, 오차는 130.4\n",
            "w1=25,w2=9 일때 예측값은 [131 222 163 229 254]이고, 오차는 135.8\n",
            "w1=26,w2=9 일때 예측값은 [133 228 167 236 262]이고, 오차는 141.2\n",
            "w1=27,w2=9 일때 예측값은 [135 234 171 243 270]이고, 오차는 146.6\n",
            "w1=28,w2=9 일때 예측값은 [137 240 175 250 278]이고, 오차는 152.0\n",
            "w1=29,w2=9 일때 예측값은 [139 246 179 257 286]이고, 오차는 157.4\n",
            "w1=30,w2=9 일때 예측값은 [141 252 183 264 294]이고, 오차는 162.8\n",
            "w1=0,w2=10 일때 예측값은 [90 80 70 60 60]이고, 오차는 36.0\n",
            "w1=1,w2=10 일때 예측값은 [92 86 74 67 68]이고, 오차는 35.4\n",
            "w1=2,w2=10 일때 예측값은 [94 92 78 74 76]이고, 오차는 34.8\n",
            "w1=3,w2=10 일때 예측값은 [96 98 82 81 84]이고, 오차는 34.2\n",
            "w1=4,w2=10 일때 예측값은 [ 98 104  86  88  92]이고, 오차는 33.6\n",
            "w1=5,w2=10 일때 예측값은 [100 110  90  95 100]이고, 오차는 35.0\n",
            "w1=6,w2=10 일때 예측값은 [102 116  94 102 108]이고, 오차는 40.4\n",
            "w1=7,w2=10 일때 예측값은 [104 122  98 109 116]이고, 오차는 45.8\n",
            "w1=8,w2=10 일때 예측값은 [106 128 102 116 124]이고, 오차는 51.2\n",
            "w1=9,w2=10 일때 예측값은 [108 134 106 123 132]이고, 오차는 56.6\n",
            "w1=10,w2=10 일때 예측값은 [110 140 110 130 140]이고, 오차는 62.0\n",
            "w1=11,w2=10 일때 예측값은 [112 146 114 137 148]이고, 오차는 67.4\n",
            "w1=12,w2=10 일때 예측값은 [114 152 118 144 156]이고, 오차는 72.8\n",
            "w1=13,w2=10 일때 예측값은 [116 158 122 151 164]이고, 오차는 78.2\n",
            "w1=14,w2=10 일때 예측값은 [118 164 126 158 172]이고, 오차는 83.6\n",
            "w1=15,w2=10 일때 예측값은 [120 170 130 165 180]이고, 오차는 89.0\n",
            "w1=16,w2=10 일때 예측값은 [122 176 134 172 188]이고, 오차는 94.4\n",
            "w1=17,w2=10 일때 예측값은 [124 182 138 179 196]이고, 오차는 99.8\n",
            "w1=18,w2=10 일때 예측값은 [126 188 142 186 204]이고, 오차는 105.2\n",
            "w1=19,w2=10 일때 예측값은 [128 194 146 193 212]이고, 오차는 110.6\n",
            "w1=20,w2=10 일때 예측값은 [130 200 150 200 220]이고, 오차는 116.0\n",
            "w1=21,w2=10 일때 예측값은 [132 206 154 207 228]이고, 오차는 121.4\n",
            "w1=22,w2=10 일때 예측값은 [134 212 158 214 236]이고, 오차는 126.8\n",
            "w1=23,w2=10 일때 예측값은 [136 218 162 221 244]이고, 오차는 132.2\n",
            "w1=24,w2=10 일때 예측값은 [138 224 166 228 252]이고, 오차는 137.6\n",
            "w1=25,w2=10 일때 예측값은 [140 230 170 235 260]이고, 오차는 143.0\n",
            "w1=26,w2=10 일때 예측값은 [142 236 174 242 268]이고, 오차는 148.4\n",
            "w1=27,w2=10 일때 예측값은 [144 242 178 249 276]이고, 오차는 153.8\n",
            "w1=28,w2=10 일때 예측값은 [146 248 182 256 284]이고, 오차는 159.2\n",
            "w1=29,w2=10 일때 예측값은 [148 254 186 263 292]이고, 오차는 164.6\n",
            "w1=30,w2=10 일때 예측값은 [150 260 190 270 300]이고, 오차는 170.0\n",
            "[136.0, 130.6, 125.2, 119.8, 114.4, 109.0, 103.6, 98.2, 92.8, 87.4, 82.0, 76.6, 71.2, 65.8, 60.4, 55.0, 49.6, 44.2, 38.8, 33.4, 28.0, 25.8, 26.0, 29.0, 32.0, 35.0, 38.0, 41.0, 44.0, 47.0, 50.0, 128.8, 123.4, 118.0, 112.6, 107.2, 101.8, 96.4, 91.0, 85.6, 80.2, 74.8, 69.4, 64.0, 58.6, 53.2, 47.8, 42.4, 37.0, 31.6, 26.2, 23.2, 23.8, 26.8, 29.8, 32.8, 35.8, 38.8, 41.8, 44.8, 47.8, 50.8, 121.6, 116.2, 110.8, 105.4, 100.0, 94.6, 89.2, 83.8, 78.4, 73.0, 67.6, 62.2, 56.8, 51.4, 46.0, 40.6, 35.2, 29.8, 24.4, 20.6, 21.6, 24.6, 27.6, 30.6, 33.6, 36.6, 39.6, 42.6, 45.6, 48.6, 53.2, 114.4, 109.0, 103.6, 98.2, 92.8, 87.4, 82.0, 76.6, 71.2, 65.8, 60.4, 55.0, 49.6, 44.2, 38.8, 33.4, 28.0, 22.6, 18.8, 19.4, 22.4, 25.4, 28.4, 31.4, 34.4, 37.4, 40.4, 43.4, 47.6, 52.2, 56.8, 107.2, 101.8, 96.4, 91.0, 85.6, 80.2, 74.8, 69.4, 64.0, 58.6, 53.2, 47.8, 42.4, 37.0, 31.6, 26.2, 20.8, 17.0, 17.2, 20.2, 23.2, 26.2, 29.2, 32.2, 35.2, 38.2, 42.0, 46.6, 51.2, 55.8, 60.4, 100.0, 94.6, 89.2, 83.8, 78.4, 73.0, 67.6, 62.2, 56.8, 51.4, 46.0, 40.6, 35.2, 29.8, 24.4, 19.0, 16.0, 15.4, 18.0, 21.0, 24.0, 27.0, 30.0, 33.0, 36.4, 41.0, 45.6, 50.2, 54.8, 59.4, 64.0, 92.8, 87.4, 82.0, 76.6, 71.2, 65.8, 60.4, 55.0, 49.6, 44.2, 38.8, 33.4, 28.0, 22.6, 18.0, 15.0, 13.6, 15.8, 18.8, 21.8, 24.8, 27.8, 30.8, 35.4, 40.0, 44.6, 49.2, 53.8, 58.4, 63.8, 69.2, 85.6, 80.2, 74.8, 69.4, 64.0, 58.6, 53.2, 47.8, 42.4, 37.0, 31.6, 26.2, 20.8, 17.0, 14.0, 11.8, 13.6, 16.6, 19.6, 22.6, 25.6, 29.8, 34.4, 39.0, 44.0, 49.4, 54.8, 60.2, 65.6, 71.0, 76.4, 78.4, 73.0, 67.6, 62.2, 56.8, 51.4, 46.0, 40.6, 35.2, 29.8, 24.4, 19.0, 16.0, 13.0, 10.0, 11.4, 14.4, 17.4, 20.4, 24.2, 29.6, 35.0, 40.4, 45.8, 51.2, 56.6, 62.0, 67.4, 72.8, 78.2, 83.6, 71.2, 65.8, 60.4, 55.0, 49.6, 44.2, 38.8, 33.4, 28.0, 22.6, 18.0, 15.0, 12.0, 9.0, 9.2, 12.6, 16.4, 20.6, 26.0, 31.4, 36.8, 42.2, 47.6, 53.0, 58.4, 63.8, 69.2, 74.6, 80.0, 85.4, 90.8, 64.0, 58.6, 53.2, 47.8, 42.4, 37.0, 31.6, 26.2, 20.8, 17.0, 14.0, 11.8, 9.6, 9.4, 13.2, 17.0, 22.4, 27.8, 33.2, 38.6, 44.0, 49.4, 54.8, 60.2, 65.6, 71.0, 76.4, 81.8, 87.2, 92.6, 98.0, 56.8, 51.4, 46.0, 40.6, 35.2, 29.8, 24.8, 20.2, 18.0, 15.8, 13.6, 11.4, 10.0, 13.8, 18.8, 24.2, 29.6, 35.0, 40.4, 45.8, 51.2, 56.6, 62.0, 67.4, 72.8, 78.2, 83.6, 89.0, 94.4, 99.8, 105.2, 49.6, 44.2, 39.6, 35.0, 30.4, 25.8, 22.0, 19.8, 17.6, 15.4, 13.2, 11.0, 15.2, 20.6, 26.0, 31.4, 36.8, 42.2, 47.6, 53.0, 58.4, 63.8, 69.2, 74.6, 80.0, 85.4, 90.8, 96.2, 101.6, 107.0, 112.4, 45.2, 40.6, 36.0, 31.4, 26.8, 23.8, 21.6, 19.4, 17.2, 15.0, 13.2, 17.0, 22.4, 27.8, 33.2, 38.6, 44.0, 49.4, 54.8, 60.2, 65.6, 71.0, 76.4, 81.8, 87.2, 92.6, 98.0, 103.4, 108.8, 114.2, 119.6, 41.6, 37.0, 32.4, 27.8, 25.6, 23.4, 21.2, 19.0, 16.8, 16.2, 18.8, 24.2, 29.6, 35.0, 40.4, 45.8, 51.2, 56.6, 62.0, 67.4, 72.8, 78.2, 83.6, 89.0, 94.4, 99.8, 105.2, 110.6, 116.0, 121.4, 126.8, 38.0, 33.4, 29.6, 27.4, 25.2, 23.0, 20.8, 19.8, 19.2, 20.6, 26.0, 31.4, 36.8, 42.2, 47.6, 53.0, 58.4, 63.8, 69.2, 74.6, 80.0, 85.4, 90.8, 96.2, 101.6, 107.0, 112.4, 117.8, 123.2, 128.6, 134.0, 34.4, 31.4, 29.2, 27.0, 24.8, 23.4, 22.8, 22.2, 22.4, 27.8, 33.2, 38.6, 44.0, 49.4, 54.8, 60.2, 65.6, 71.0, 76.4, 81.8, 87.2, 92.6, 98.0, 103.4, 108.8, 114.2, 119.6, 125.0, 130.4, 135.8, 141.2, 33.2, 31.0, 28.8, 27.0, 26.4, 25.8, 25.2, 25.0, 29.6, 35.0, 40.4, 45.8, 51.2, 56.6, 62.0, 67.4, 72.8, 78.2, 83.6, 89.0, 94.4, 99.8, 105.2, 110.6, 116.0, 121.4, 126.8, 132.2, 137.6, 143.0, 148.4, 32.8, 30.6, 30.0, 29.4, 28.8, 28.2, 27.6, 31.4, 36.8, 42.2, 47.6, 53.0, 58.4, 63.8, 69.2, 74.6, 80.0, 85.4, 90.8, 96.2, 101.6, 107.0, 112.4, 117.8, 123.2, 128.6, 134.0, 139.4, 144.8, 150.2, 155.6, 33.6, 33.0, 32.4, 31.8, 31.2, 30.6, 33.2, 38.6, 44.0, 49.4, 54.8, 60.2, 65.6, 71.0, 76.4, 81.8, 87.2, 92.6, 98.0, 103.4, 108.8, 114.2, 119.6, 125.0, 130.4, 135.8, 141.2, 146.6, 152.0, 157.4, 162.8, 36.0, 35.4, 34.8, 34.2, 33.6, 35.0, 40.4, 45.8, 51.2, 56.6, 62.0, 67.4, 72.8, 78.2, 83.6, 89.0, 94.4, 99.8, 105.2, 110.6, 116.0, 121.4, 126.8, 132.2, 137.6, 143.0, 148.4, 153.8, 159.2, 164.6, 170.0]\n"
          ]
        }
      ]
    },
    {
      "cell_type": "markdown",
      "metadata": {
        "id": "jiwFG-NhqTkN"
      },
      "source": [
        "* 3d플롯으로 시각화"
      ]
    },
    {
      "cell_type": "code",
      "source": [
        "W1.shape, W2.shape, np.array(errors).shape, 21*31"
      ],
      "metadata": {
        "id": "ApcovBBMFit2",
        "outputId": "80737239-0a43-4578-be9a-fb7dd7eb67da",
        "colab": {
          "base_uri": "https://localhost:8080/"
        }
      },
      "execution_count": 87,
      "outputs": [
        {
          "output_type": "execute_result",
          "data": {
            "text/plain": [
              "((21, 31), (21, 31), (651,), 651)"
            ]
          },
          "metadata": {},
          "execution_count": 87
        }
      ]
    },
    {
      "cell_type": "code",
      "execution_count": 91,
      "metadata": {
        "id": "5quWOXGDchhe",
        "outputId": "2ad5f86c-e195-4818-f20a-5f85fee5ffa6",
        "colab": {
          "base_uri": "https://localhost:8080/",
          "height": 394
        }
      },
      "outputs": [
        {
          "output_type": "stream",
          "name": "stderr",
          "text": [
            "No handles with labels found to put in legend.\n"
          ]
        },
        {
          "output_type": "execute_result",
          "data": {
            "text/plain": [
              "Text(0.5, 0, 'error')"
            ]
          },
          "metadata": {},
          "execution_count": 91
        },
        {
          "output_type": "display_data",
          "data": {
            "text/plain": [
              "<Figure size 576x432 with 1 Axes>"
            ],
            "image/png": "[encoded data removed]"
          },
          "metadata": {}
        }
      ],
      "source": [
        "fig = plt.figure(figsize = (8,6)) # 그림 전체 사이즈 설정\n",
        "ax = plt.axes(projection = '3d') # 좌표를 3d로 설정\n",
        "\n",
        "# w1,w2에 대한 error\n",
        "ax.scatter3D(W1.flatten(),W2.flatten(), errors, marker='.',c='k') #벡터\n",
        "surf=ax.plot_surface(W1,W2,np.array(errors).reshape(21,31)) #행렬\n",
        "\n",
        "plt.legend()\n",
        "ax.set_xlabel('w1')\n",
        "ax.set_ylabel('w2')\n",
        "ax.set_zlabel('error')\n"
      ]
    },
    {
      "cell_type": "markdown",
      "metadata": {
        "id": "QtHMuaycoAJA"
      },
      "source": [
        "### **| step 4. 예측 (Prediction)**"
      ]
    },
    {
      "cell_type": "markdown",
      "metadata": {
        "id": "i7E_v8Ga8LQU"
      },
      "source": [
        "* 최적화된 파라미터 정의"
      ]
    },
    {
      "cell_type": "code",
      "execution_count": 95,
      "metadata": {
        "id": "QUu5sE-K8NP6",
        "outputId": "53566ae9-25f8-43b9-f40c-72fd1a0bb012",
        "colab": {
          "base_uri": "https://localhost:8080/"
        }
      },
      "outputs": [
        {
          "output_type": "stream",
          "name": "stdout",
          "text": [
            "[ 20  50  60  90 100]\n",
            "[ 19  76  49  92 106]\n"
          ]
        }
      ],
      "source": [
        "w_vec_=np.array([14,-1])\n",
        "y_pred = model2(x, w_vec = w_vec_)\n",
        "print(y)\n",
        "print(y_pred)"
      ]
    },
    {
      "cell_type": "markdown",
      "metadata": {
        "id": "Y3GtsybBoAJA"
      },
      "source": [
        "* 학습 완료된 모델의 최종 손실 계산"
      ]
    },
    {
      "cell_type": "code",
      "execution_count": 96,
      "metadata": {
        "id": "HeXT9GDnoAJA",
        "outputId": "513157df-8807-45d5-fb4a-3f49c33aea33",
        "colab": {
          "base_uri": "https://localhost:8080/"
        }
      },
      "outputs": [
        {
          "output_type": "execute_result",
          "data": {
            "text/plain": [
              "9.2"
            ]
          },
          "metadata": {},
          "execution_count": 96
        }
      ],
      "source": [
        "loss(y,y_pred)"
      ]
    },
    {
      "cell_type": "markdown",
      "metadata": {
        "id": "Uuqeagt3oAJA"
      },
      "source": [
        "* 학습 완료된 모델에 대한 예측 시각화"
      ]
    },
    {
      "cell_type": "code",
      "source": [
        "#샘플 스페이스\n",
        "fig = plt.figure(figsize = (8,6)) # 그림 전체 사이즈 설정\n",
        "ax = plt.axes(projection = '3d') # 좌표를 3d로 설정\n",
        "study_time=x[:,0]\n",
        "sleep_time=x[:,1]\n",
        "ax.scatter3D(study_time,sleep_time,y, c='k') #벡터\n",
        "\n",
        "#surf=ax.plot_surface(W1,W2,np.array(errors).reshape(21,31)) #행렬\n",
        "\n",
        "plt.legend()\n",
        "ax.set_xlabel('study time')\n",
        "ax.set_ylabel('sleep time')\n",
        "ax.set_zlabel('score')"
      ],
      "metadata": {
        "id": "Wm2udvPSAsia",
        "outputId": "6e498fe6-520d-42d9-cd08-244e5830eb6f",
        "colab": {
          "base_uri": "https://localhost:8080/",
          "height": 394
        }
      },
      "execution_count": 97,
      "outputs": [
        {
          "output_type": "stream",
          "name": "stderr",
          "text": [
            "No handles with labels found to put in legend.\n"
          ]
        },
        {
          "output_type": "execute_result",
          "data": {
            "text/plain": [
              "Text(0.5, 0, 'score')"
            ]
          },
          "metadata": {},
          "execution_count": 97
        },
        {
          "output_type": "display_data",
          "data": {
            "text/plain": [
              "<Figure size 576x432 with 1 Axes>"
            ],
            "image/png": "[encoded data removed]"
          },
          "metadata": {}
        }
      ]
    },
    {
      "cell_type": "markdown",
      "metadata": {
        "id": "24tBE1IfoAJA"
      },
      "source": [
        "* 공부시간이 6시간이고 수면시간 5시간 일 때 예상 점수는?\n"
      ]
    },
    {
      "cell_type": "code",
      "execution_count": 98,
      "metadata": {
        "id": "NlzSUkM3oAJA",
        "outputId": "499a406d-fc99-4088-e0f8-d9899372e30b",
        "colab": {
          "base_uri": "https://localhost:8080/"
        }
      },
      "outputs": [
        {
          "output_type": "execute_result",
          "data": {
            "text/plain": [
              "79"
            ]
          },
          "metadata": {},
          "execution_count": 98
        }
      ],
      "source": [
        "\n",
        "model2(np.array([6,5]),w_vec_)\n"
      ]
    },
    {
      "cell_type": "markdown",
      "metadata": {
        "id": "ryN0xOv4oAJB"
      },
      "source": [
        "### **| step 5. 평가 (Evaluation)**\n",
        "\n",
        "* 훈련 데이터셋\n",
        "\n",
        "\n",
        "|공부시간|수면시간|종합점수|\n",
        "|------|---|--|\n",
        "|2|9|20|\n",
        "|6|8|50|\n",
        "|4|7|60|\n",
        "|7|6|90|\n",
        "|8|6|100|\n",
        "\n",
        "* 테스트 데이터셋\n",
        "\n",
        "|공부시간|수면시간|종합점수|\n",
        "|------|---|--|\n",
        "|1|7|15|\n",
        "|3|8|25|\n",
        "|5|7|60|\n",
        "|5|6|90|\n",
        "|10|7|95|"
      ]
    },
    {
      "cell_type": "markdown",
      "metadata": {
        "id": "Ypl_S_QfoAJB"
      },
      "source": [
        "* 테스트 데이터셋 정의"
      ]
    },
    {
      "cell_type": "code",
      "execution_count": 102,
      "metadata": {
        "id": "l8LvKjByoAJB",
        "outputId": "c41186d3-4806-4f17-aa48-72faf21ebcf8",
        "colab": {
          "base_uri": "https://localhost:8080/"
        }
      },
      "outputs": [
        {
          "output_type": "execute_result",
          "data": {
            "text/plain": [
              "((5, 2), (5,))"
            ]
          },
          "metadata": {},
          "execution_count": 102
        }
      ],
      "source": [
        "x_test=np.array([1,7,3,8,5,7,5,6,10,7]).reshape(5,2)\n",
        "y_test=np.array([15,25,60,90,95])\n",
        "x_test.shape, y_test.shape\n"
      ]
    },
    {
      "cell_type": "markdown",
      "metadata": {
        "id": "DqHAYcIioAJB"
      },
      "source": [
        "* 학습 완료된 모델에 테스트 데이터로 최종 손실 계산"
      ]
    },
    {
      "cell_type": "code",
      "execution_count": 103,
      "metadata": {
        "id": "BfEWvhS8oAJB",
        "outputId": "374b92a5-954b-4398-a606-1aad10f933a1",
        "colab": {
          "base_uri": "https://localhost:8080/"
        }
      },
      "outputs": [
        {
          "output_type": "stream",
          "name": "stdout",
          "text": [
            "16.8\n"
          ]
        }
      ],
      "source": [
        "y_test_pred = model2(x_test, w_vec_)\n",
        "error = loss(y_test, y_test_pred)\n",
        "print(error)"
      ]
    },
    {
      "cell_type": "markdown",
      "metadata": {
        "id": "qFRMUCJZoAJB"
      },
      "source": [
        "* 학습 완료된 모델에 테스트 데이터 예측 시각화"
      ]
    },
    {
      "cell_type": "code",
      "execution_count": null,
      "metadata": {
        "id": "R6TVPbqHoAJB"
      },
      "outputs": [],
      "source": [
        ""
      ]
    },
    {
      "cell_type": "code",
      "source": [
        ""
      ],
      "metadata": {
        "id": "Lt5FOTA2I_wJ"
      },
      "execution_count": null,
      "outputs": []
    },
    {
      "cell_type": "markdown",
      "source": [
        "## 클래스 작성하기\n",
        "---\n",
        "\n",
        "```\n",
        "단순 선형회귀 분석 클래스를 작성합니다.\n",
        "\n",
        "model = Model() # 모델 클래스가 생성됩니다.\n",
        "model.fit(xs, ys) # 최적화가 진행됩니다.\n",
        "model.predict(xs) # 예측을 진행합니다.\n",
        "model.validation(xs, ys) # 평가를 진행합니다.\n",
        "```"
      ],
      "metadata": {
        "id": "YE4y3XQfJAO8"
      }
    },
    {
      "cell_type": "code",
      "source": [
        "class Model():\n",
        "  def __init__(self):\n",
        "    self.w = 5\n",
        "\n",
        "  def model(self,x):\n",
        "    return x*self.w  \n",
        "\n",
        "  def predict(self,x):\n",
        "    y_pred = self.model(x)\n",
        "    return y_pred\n",
        "\n",
        "  def loss(self, y,y_hat):\n",
        "    return np.sum(np.abs(y-y_hat))/len(y)\n",
        "\n",
        "  def validation(self, x, y):\n",
        "    y_pred = self.model(x)\n",
        "    error = self.loss(y,y_pred)\n",
        "    return error \n",
        "\n",
        "  def plot(self, x, y):\n",
        "    plt.scatter(x,y , label='data', c='k') #좌표 평면에 점 찍기\n",
        "    plt.plot(x,self.predict(x),label='model') #모델의 직선 그리기\n",
        "    plt.legend()\n",
        "    plt.xlabel('study time(x)')\n",
        "    plt.ylabel('score(y)')\n",
        "    plt.title(f'w: {self.w}')\n",
        "    plt.show()\n",
        "\n",
        "  def fit(self,x,y,w_min,w_max):\n",
        "     min_error= 10000000\n",
        "     for w in range(w_min, w_max):\n",
        "       self.w = w\n",
        "       \n",
        "       y_pred = self.model(x)\n",
        "       error = self.loss(y, y_pred)\n",
        "       \n",
        "       \n",
        "\n",
        "       if min_error >= error:\n",
        "         min_error = error\n",
        "         w_ideal = w\n",
        "         print(f'*w={w} 일 때 error={error}')\n",
        "\n",
        "       else:\n",
        "         print('학습종료')\n",
        "         self.w=w_ideal\n",
        "         break"
      ],
      "metadata": {
        "id": "UxHpUFznJhwr"
      },
      "execution_count": 153,
      "outputs": []
    },
    {
      "cell_type": "code",
      "source": [
        "x= np.array([3,5,5,7,8])\n",
        "y= np.array([20,50,60,90,100])\n",
        "x.shape, y.shape"
      ],
      "metadata": {
        "id": "g1VjBSUlXxzL",
        "outputId": "cc5951fd-a52b-4599-c104-d660e90b5cdf",
        "colab": {
          "base_uri": "https://localhost:8080/"
        }
      },
      "execution_count": 154,
      "outputs": [
        {
          "output_type": "execute_result",
          "data": {
            "text/plain": [
              "((5,), (5,))"
            ]
          },
          "metadata": {},
          "execution_count": 154
        }
      ]
    },
    {
      "cell_type": "code",
      "source": [
        "model = Model()\n",
        "print('모델의 예측', model.predict(x))\n",
        "print('평과 결과(오차)', model.validation(x,y))\n",
        "model.plot(x,y)\n",
        "model.fit(x,y,w_min=0, w_max=20)\n",
        "model.plot(x,y)"
      ],
      "metadata": {
        "id": "suymRngLONua",
        "outputId": "a1dc65ff-9a7c-413a-82de-eaa713ebfae8",
        "colab": {
          "base_uri": "https://localhost:8080/",
          "height": 875
        }
      },
      "execution_count": 155,
      "outputs": [
        {
          "output_type": "stream",
          "name": "stdout",
          "text": [
            "모델의 예측 [15 25 25 35 40]\n",
            "평과 결과(오차) 36.0\n"
          ]
        },
        {
          "output_type": "display_data",
          "data": {
            "text/plain": [
              "<Figure size 432x288 with 1 Axes>"
            ],
            "image/png": "[encoded data removed]"
          },
          "metadata": {}
        },
        {
          "output_type": "stream",
          "name": "stdout",
          "text": [
            "*w=0 일 때 error=64.0\n",
            "*w=1 일 때 error=58.4\n",
            "*w=2 일 때 error=52.8\n",
            "*w=3 일 때 error=47.2\n",
            "*w=4 일 때 error=41.6\n",
            "*w=5 일 때 error=36.0\n",
            "*w=6 일 때 error=30.4\n",
            "*w=7 일 때 error=25.2\n",
            "*w=8 일 때 error=20.8\n",
            "*w=9 일 때 error=16.4\n",
            "*w=10 일 때 error=12.0\n",
            "*w=11 일 때 error=9.6\n",
            "*w=12 일 때 error=7.2\n",
            "학습종료\n"
          ]
        },
        {
          "output_type": "display_data",
          "data": {
            "text/plain": [
              "<Figure size 432x288 with 1 Axes>"
            ],
            "image/png": "[encoded data removed]"
          },
          "metadata": {}
        }
      ]
    },
    {
      "cell_type": "code",
      "source": [
        "model.w"
      ],
      "metadata": {
        "id": "zmJ2tDThOSUS",
        "outputId": "59b6cdc2-0a43-476c-d22c-664e676e58ad",
        "colab": {
          "base_uri": "https://localhost:8080/"
        }
      },
      "execution_count": 156,
      "outputs": [
        {
          "output_type": "execute_result",
          "data": {
            "text/plain": [
              "12"
            ]
          },
          "metadata": {},
          "execution_count": 156
        }
      ]
    },
    {
      "cell_type": "code",
      "source": [
        ""
      ],
      "metadata": {
        "id": "B9fAc2MZZaKx"
      },
      "execution_count": null,
      "outputs": []
    }
  ],
  "metadata": {
    "colab": {
      "collapsed_sections": [],
      "name": "ch05_03_기초모델구현-회귀모델맛보기.ipynb",
      "provenance": [],
      "toc_visible": true,
      "include_colab_link": true
    },
    "kernelspec": {
      "display_name": "Python 3",
      "name": "python3"
    },
    "language_info": {
      "name": "python"
    }
  },
  "nbformat": 4,
  "nbformat_minor": 0
}